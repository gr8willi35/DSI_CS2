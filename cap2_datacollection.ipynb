{
 "metadata": {
  "language_info": {
   "codemirror_mode": {
    "name": "ipython",
    "version": 3
   },
   "file_extension": ".py",
   "mimetype": "text/x-python",
   "name": "python",
   "nbconvert_exporter": "python",
   "pygments_lexer": "ipython3",
   "version": "3.7.10-final"
  },
  "orig_nbformat": 2,
  "kernelspec": {
   "name": "python3",
   "display_name": "Python 3.7.10 64-bit ('base': conda)",
   "metadata": {
    "interpreter": {
     "hash": "b7dce63e39a4a8c98f5a1ef1e65571106e15efed32663927d397570964b86d03"
    }
   }
  }
 },
 "nbformat": 4,
 "nbformat_minor": 2,
 "cells": [
  {
   "cell_type": "code",
   "execution_count": 1,
   "metadata": {},
   "outputs": [],
   "source": [
    "from pymongo import MongoClient\n",
    "import pprint\n",
    "import numpy as np\n",
    "import scipy.stats as stats\n",
    "import scipy\n",
    "\n",
    "import pandas as pd\n",
    "import matplotlib.pyplot as plt\n",
    "import matplotlib.patches as mpatches\n",
    "\n",
    "plt.style.use('fivethirtyeight')\n",
    "\n",
    "import requests\n",
    "\n",
    "from bs4 import BeautifulSoup\n",
    "\n",
    "import json\n",
    "import time\n",
    "import copy\n",
    "from datetime import datetime"
   ]
  },
  {
   "cell_type": "code",
   "execution_count": 2,
   "metadata": {},
   "outputs": [],
   "source": [
    "import praw\n",
    "reddit = praw.Reddit(\n",
    "    client_id=\"rxYU1lC2EOVdGg\",\n",
    "    client_secret=\"zNmHzN2fz-WmlX64qrr8kXHo680Zmg\",\n",
    "    user_agent=\"Karma Kollection kwest by u//gr8willi35\"\n",
    ")"
   ]
  },
  {
   "cell_type": "code",
   "execution_count": 3,
   "metadata": {},
   "outputs": [
    {
     "output_type": "stream",
     "name": "stdout",
     "text": [
      "True\n"
     ]
    }
   ],
   "source": [
    "print(reddit.read_only)"
   ]
  },
  {
   "cell_type": "code",
   "execution_count": 4,
   "metadata": {},
   "outputs": [
    {
     "output_type": "stream",
     "name": "stdout",
     "text": [
      "Magikarp used burn.\nYes I'm a casual player, please don't hurt me\n\"Dragonite ran away.\"\nMy experience in the past week\nAnother positive use...\nI'm with this guy\nNailed it!\n\"PokemonGoApp hurt itself in its confusion\"\nHow Pokemon GO spawns their commons\nFinally reached this milestone!\n"
     ]
    }
   ],
   "source": [
    "for submission in reddit.subreddit(\"pokemongo\").top(limit=10):\n",
    "    print(submission.title)"
   ]
  },
  {
   "cell_type": "code",
   "execution_count": 5,
   "metadata": {},
   "outputs": [],
   "source": [
    "pokemongo_top = reddit.subreddit(\"pokemongo\").top(limit=None)\n",
    "pokemongo_new = reddit.subreddit(\"pokemongo\").new(limit=None)"
   ]
  },
  {
   "cell_type": "code",
   "execution_count": 6,
   "metadata": {},
   "outputs": [],
   "source": [
    "topposts = []\n",
    "\n",
    "for post in pokemongo_top:\n",
    "    topposts.append([post.title, post.score, post.id, post.subreddit, post.url, post.num_comments, post.selftext, post.created])\n",
    "topposts = pd.DataFrame(topposts, columns=['title', 'score', 'id', 'subreddit', 'url', 'num_comments', 'body', 'created'])\n",
    "#topposts.to_csv('~/DSI_ii/cap_stones/DSI_CS2/data/pokemongo_top.csv')"
   ]
  },
  {
   "cell_type": "code",
   "execution_count": 7,
   "metadata": {},
   "outputs": [
    {
     "output_type": "execute_result",
     "data": {
      "text/plain": [
       "                                               title  score      id  \\\n",
       "0  What’s the meta right now for the premier league?      1  mfz6c6   \n",
       "1                  A gaze open him in disappointment      4  mfyy6y   \n",
       "2                Niantic AR Glasses are coming soon!      2  mfyvpl   \n",
       "3                    The Higher They Fly... research      3  mfytk6   \n",
       "4  Can I get still get shadow mewtwo if i beat gi...      2  mfyqmj   \n",
       "\n",
       "   subreddit                                                url  num_comments  \\\n",
       "0  pokemongo  https://www.reddit.com/r/pokemongo/comments/mf...             2   \n",
       "1  pokemongo                https://i.redd.it/i2nuhrod31q61.jpg             8   \n",
       "2  pokemongo  https://twitter.com/johnhanke/status/137662474...             0   \n",
       "3  pokemongo  https://www.reddit.com/r/pokemongo/comments/mf...             3   \n",
       "4  pokemongo  https://www.reddit.com/r/pokemongo/comments/mf...             9   \n",
       "\n",
       "                                                body       created  \n",
       "0  Just wondering what most people would consider...  1.617080e+09  \n",
       "1                                                     1.617079e+09  \n",
       "2                                                     1.617079e+09  \n",
       "3  My brother just finished defeating Giovanni, g...  1.617079e+09  \n",
       "4  So i just complete an Inter-egg-sting developm...  1.617079e+09  "
      ],
      "text/html": "<div>\n<style scoped>\n    .dataframe tbody tr th:only-of-type {\n        vertical-align: middle;\n    }\n\n    .dataframe tbody tr th {\n        vertical-align: top;\n    }\n\n    .dataframe thead th {\n        text-align: right;\n    }\n</style>\n<table border=\"1\" class=\"dataframe\">\n  <thead>\n    <tr style=\"text-align: right;\">\n      <th></th>\n      <th>title</th>\n      <th>score</th>\n      <th>id</th>\n      <th>subreddit</th>\n      <th>url</th>\n      <th>num_comments</th>\n      <th>body</th>\n      <th>created</th>\n    </tr>\n  </thead>\n  <tbody>\n    <tr>\n      <th>0</th>\n      <td>What’s the meta right now for the premier league?</td>\n      <td>1</td>\n      <td>mfz6c6</td>\n      <td>pokemongo</td>\n      <td>https://www.reddit.com/r/pokemongo/comments/mf...</td>\n      <td>2</td>\n      <td>Just wondering what most people would consider...</td>\n      <td>1.617080e+09</td>\n    </tr>\n    <tr>\n      <th>1</th>\n      <td>A gaze open him in disappointment</td>\n      <td>4</td>\n      <td>mfyy6y</td>\n      <td>pokemongo</td>\n      <td>https://i.redd.it/i2nuhrod31q61.jpg</td>\n      <td>8</td>\n      <td></td>\n      <td>1.617079e+09</td>\n    </tr>\n    <tr>\n      <th>2</th>\n      <td>Niantic AR Glasses are coming soon!</td>\n      <td>2</td>\n      <td>mfyvpl</td>\n      <td>pokemongo</td>\n      <td>https://twitter.com/johnhanke/status/137662474...</td>\n      <td>0</td>\n      <td></td>\n      <td>1.617079e+09</td>\n    </tr>\n    <tr>\n      <th>3</th>\n      <td>The Higher They Fly... research</td>\n      <td>3</td>\n      <td>mfytk6</td>\n      <td>pokemongo</td>\n      <td>https://www.reddit.com/r/pokemongo/comments/mf...</td>\n      <td>3</td>\n      <td>My brother just finished defeating Giovanni, g...</td>\n      <td>1.617079e+09</td>\n    </tr>\n    <tr>\n      <th>4</th>\n      <td>Can I get still get shadow mewtwo if i beat gi...</td>\n      <td>2</td>\n      <td>mfyqmj</td>\n      <td>pokemongo</td>\n      <td>https://www.reddit.com/r/pokemongo/comments/mf...</td>\n      <td>9</td>\n      <td>So i just complete an Inter-egg-sting developm...</td>\n      <td>1.617079e+09</td>\n    </tr>\n  </tbody>\n</table>\n</div>"
     },
     "metadata": {},
     "execution_count": 7
    }
   ],
   "source": [
    "posts = []\n",
    "\n",
    "for post in pokemongo_new:\n",
    "    posts.append([post.title, post.score, post.id, post.subreddit, post.url, post.num_comments, post.selftext, post.created])\n",
    "posts = pd.DataFrame(posts, columns=['title', 'score', 'id', 'subreddit', 'url', 'num_comments', 'body', 'created'])\n",
    "\n",
    "posts.head()"
   ]
  },
  {
   "cell_type": "code",
   "execution_count": 8,
   "metadata": {},
   "outputs": [],
   "source": []
  },
  {
   "cell_type": "code",
   "execution_count": 9,
   "metadata": {},
   "outputs": [],
   "source": [
    "# for entry in pokemongo_new.stream.submissions:\n",
    "#     print(datetime.datetime.fromstimestamp(entry.created))"
   ]
  },
  {
   "cell_type": "code",
   "execution_count": 10,
   "metadata": {},
   "outputs": [
    {
     "output_type": "execute_result",
     "data": {
      "text/plain": [
       "0     2021-03-30 04:49:12\n",
       "1     2021-03-30 04:39:06\n",
       "2     2021-03-30 04:35:53\n",
       "3     2021-03-30 04:33:09\n",
       "4     2021-03-30 04:29:36\n",
       "              ...        \n",
       "978   2021-03-18 09:20:19\n",
       "979   2021-03-18 09:12:34\n",
       "980   2021-03-18 08:49:35\n",
       "981   2021-03-18 08:47:25\n",
       "982   2021-03-18 08:44:27\n",
       "Name: created, Length: 983, dtype: datetime64[ns]"
      ]
     },
     "metadata": {},
     "execution_count": 10
    }
   ],
   "source": [
    "posts['created'] = pd.to_datetime(posts['created'], unit='s')\n",
    "posts['created']"
   ]
  },
  {
   "cell_type": "code",
   "execution_count": 12,
   "metadata": {},
   "outputs": [
    {
     "output_type": "execute_result",
     "data": {
      "text/plain": [
       "Index(['title', 'score', 'id', 'subreddit', 'url', 'num_comments', 'body',\n",
       "       'created'],\n",
       "      dtype='object')"
      ]
     },
     "metadata": {},
     "execution_count": 12
    }
   ],
   "source": [
    "posts.columns"
   ]
  },
  {
   "cell_type": "code",
   "execution_count": 13,
   "metadata": {},
   "outputs": [],
   "source": [
    "# posts.to_csv('~/DSI_ii/cap_stones/DSI_CS2/data/pokemongo_new.csv') #data collected, leave alone"
   ]
  },
  {
   "cell_type": "code",
   "execution_count": null,
   "metadata": {},
   "outputs": [],
   "source": []
  }
 ]
}