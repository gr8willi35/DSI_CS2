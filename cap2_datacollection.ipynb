{
 "metadata": {
  "language_info": {
   "codemirror_mode": {
    "name": "ipython",
    "version": 3
   },
   "file_extension": ".py",
   "mimetype": "text/x-python",
   "name": "python",
   "nbconvert_exporter": "python",
   "pygments_lexer": "ipython3",
   "version": "3.7.10-final"
  },
  "orig_nbformat": 2,
  "kernelspec": {
   "name": "python3",
   "display_name": "Python 3.7.10 64-bit ('base': conda)",
   "metadata": {
    "interpreter": {
     "hash": "b7dce63e39a4a8c98f5a1ef1e65571106e15efed32663927d397570964b86d03"
    }
   }
  }
 },
 "nbformat": 4,
 "nbformat_minor": 2,
 "cells": [
  {
   "cell_type": "code",
   "execution_count": 1,
   "metadata": {},
   "outputs": [],
   "source": [
    "from pymongo import MongoClient\n",
    "import pprint\n",
    "import numpy as np\n",
    "import scipy.stats as stats\n",
    "import scipy\n",
    "\n",
    "import pandas as pd\n",
    "import matplotlib.pyplot as plt\n",
    "import matplotlib.patches as mpatches\n",
    "\n",
    "plt.style.use('fivethirtyeight')\n",
    "\n",
    "import requests\n",
    "\n",
    "from bs4 import BeautifulSoup\n",
    "\n",
    "import json\n",
    "import time\n",
    "import copy\n",
    "from datetime import datetime"
   ]
  },
  {
   "cell_type": "code",
   "execution_count": 2,
   "metadata": {},
   "outputs": [],
   "source": [
    "import praw\n",
    "reddit = praw.Reddit(\n",
    "    client_id=\"rxYU1lC2EOVdGg\",\n",
    "    client_secret=\"zNmHzN2fz-WmlX64qrr8kXHo680Zmg\",\n",
    "    user_agent=\"tom_galcs2\"\n",
    ")"
   ]
  },
  {
   "cell_type": "code",
   "execution_count": 3,
   "metadata": {},
   "outputs": [
    {
     "output_type": "stream",
     "name": "stdout",
     "text": [
      "True\n"
     ]
    }
   ],
   "source": [
    "print(reddit.read_only)"
   ]
  },
  {
   "cell_type": "code",
   "execution_count": 4,
   "metadata": {},
   "outputs": [],
   "source": [
    "# for submission in reddit.subreddit(\"wallstreetbets\").top(limit=10):\n",
    "#     print(submission.title)"
   ]
  },
  {
   "cell_type": "code",
   "execution_count": 5,
   "metadata": {},
   "outputs": [],
   "source": [
    "wallstreetbets_top = reddit.subreddit(\"wallstreetbets\").top(limit=None)\n",
    "wallstreetbets_new = reddit.subreddit(\"wallstreetbets\").new(limit=None)"
   ]
  },
  {
   "cell_type": "code",
   "execution_count": 6,
   "metadata": {},
   "outputs": [],
   "source": [
    "# topposts = []\n",
    "\n",
    "# for post in wallstreetbets_top:\n",
    "#     topposts.append([post.title, post.score, post.id, post.subreddit, post.url, post.num_comments, post.selftext, post.created])\n",
    "# topposts = pd.DataFrame(topposts, columns=['title', 'score', 'id', 'subreddit', 'url', 'num_comments', 'body', 'created'])\n",
    "# topposts.to_csv('~/DSI_ii/cap_stones/DSI_CS2/data/wallstreetbets_top.csv')"
   ]
  },
  {
   "cell_type": "code",
   "execution_count": 7,
   "metadata": {},
   "outputs": [
    {
     "output_type": "execute_result",
     "data": {
      "text/plain": [
       "                                               title  score      id  \\\n",
       "0                     Big Catalyst tomorrow for RKT!      1  maubsk   \n",
       "1  Got one for myself. You should too. Apes toget...      3  maubcv   \n",
       "2  $GME Comparing Tweets Using Technical Indicato...      3  mau8aw   \n",
       "3  Aftermath of GameStop Earnings Report Investor...      9  mau556   \n",
       "4  Facebook and Discovery Channel stock YOLO trad...      8  mau3i0   \n",
       "\n",
       "        subreddit                                                url  \\\n",
       "0  wallstreetbets  https://www.reddit.com/r/wallstreetbets/commen...   \n",
       "1  wallstreetbets                https://i.redd.it/j74bdoo2gmo61.png   \n",
       "2  wallstreetbets  https://www.reddit.com/r/wallstreetbets/commen...   \n",
       "3  wallstreetbets                    https://v.redd.it/t9qbuet1fmo61   \n",
       "4  wallstreetbets                https://i.redd.it/tt26sbazemo61.jpg   \n",
       "\n",
       "   num_comments                                               body  \\\n",
       "0             0  Tomorrow's a big day for RKT!\\n\\nAt this point...   \n",
       "1             1                                                      \n",
       "2             0  First off, I want to make a quick disclaimer a...   \n",
       "3             0                                                      \n",
       "4            12                                                      \n",
       "\n",
       "        created  \n",
       "0  1.616466e+09  \n",
       "1  1.616466e+09  \n",
       "2  1.616466e+09  \n",
       "3  1.616466e+09  \n",
       "4  1.616466e+09  "
      ],
      "text/html": "<div>\n<style scoped>\n    .dataframe tbody tr th:only-of-type {\n        vertical-align: middle;\n    }\n\n    .dataframe tbody tr th {\n        vertical-align: top;\n    }\n\n    .dataframe thead th {\n        text-align: right;\n    }\n</style>\n<table border=\"1\" class=\"dataframe\">\n  <thead>\n    <tr style=\"text-align: right;\">\n      <th></th>\n      <th>title</th>\n      <th>score</th>\n      <th>id</th>\n      <th>subreddit</th>\n      <th>url</th>\n      <th>num_comments</th>\n      <th>body</th>\n      <th>created</th>\n    </tr>\n  </thead>\n  <tbody>\n    <tr>\n      <th>0</th>\n      <td>Big Catalyst tomorrow for RKT!</td>\n      <td>1</td>\n      <td>maubsk</td>\n      <td>wallstreetbets</td>\n      <td>https://www.reddit.com/r/wallstreetbets/commen...</td>\n      <td>0</td>\n      <td>Tomorrow's a big day for RKT!\\n\\nAt this point...</td>\n      <td>1.616466e+09</td>\n    </tr>\n    <tr>\n      <th>1</th>\n      <td>Got one for myself. You should too. Apes toget...</td>\n      <td>3</td>\n      <td>maubcv</td>\n      <td>wallstreetbets</td>\n      <td>https://i.redd.it/j74bdoo2gmo61.png</td>\n      <td>1</td>\n      <td></td>\n      <td>1.616466e+09</td>\n    </tr>\n    <tr>\n      <th>2</th>\n      <td>$GME Comparing Tweets Using Technical Indicato...</td>\n      <td>3</td>\n      <td>mau8aw</td>\n      <td>wallstreetbets</td>\n      <td>https://www.reddit.com/r/wallstreetbets/commen...</td>\n      <td>0</td>\n      <td>First off, I want to make a quick disclaimer a...</td>\n      <td>1.616466e+09</td>\n    </tr>\n    <tr>\n      <th>3</th>\n      <td>Aftermath of GameStop Earnings Report Investor...</td>\n      <td>9</td>\n      <td>mau556</td>\n      <td>wallstreetbets</td>\n      <td>https://v.redd.it/t9qbuet1fmo61</td>\n      <td>0</td>\n      <td></td>\n      <td>1.616466e+09</td>\n    </tr>\n    <tr>\n      <th>4</th>\n      <td>Facebook and Discovery Channel stock YOLO trad...</td>\n      <td>8</td>\n      <td>mau3i0</td>\n      <td>wallstreetbets</td>\n      <td>https://i.redd.it/tt26sbazemo61.jpg</td>\n      <td>12</td>\n      <td></td>\n      <td>1.616466e+09</td>\n    </tr>\n  </tbody>\n</table>\n</div>"
     },
     "metadata": {},
     "execution_count": 7
    }
   ],
   "source": [
    "posts = []\n",
    "\n",
    "for post in wallstreetbets_new:\n",
    "    posts.append([post.title, post.score, post.id, post.subreddit, post.url, post.num_comments, post.selftext, post.created])\n",
    "posts = pd.DataFrame(posts, columns=['title', 'score', 'id', 'subreddit', 'url', 'num_comments', 'body', 'created'])\n",
    "\n",
    "posts.head()"
   ]
  },
  {
   "cell_type": "code",
   "execution_count": 8,
   "metadata": {},
   "outputs": [],
   "source": [
    "posts.to_csv('~/DSI_ii/cap_stones/DSI_CS2/data/wallstreetbets_new.csv')"
   ]
  },
  {
   "cell_type": "code",
   "execution_count": 9,
   "metadata": {},
   "outputs": [
    {
     "output_type": "error",
     "ename": "AttributeError",
     "evalue": "'ListingGenerator' object has no attribute 'stream'",
     "traceback": [
      "\u001b[0;31m---------------------------------------------------------------------------\u001b[0m",
      "\u001b[0;31mAttributeError\u001b[0m                            Traceback (most recent call last)",
      "\u001b[0;32m<ipython-input-9-bdc533884bd2>\u001b[0m in \u001b[0;36m<module>\u001b[0;34m\u001b[0m\n\u001b[0;32m----> 1\u001b[0;31m \u001b[0;32mfor\u001b[0m \u001b[0mentry\u001b[0m \u001b[0;32min\u001b[0m \u001b[0mwallstreetbets_new\u001b[0m\u001b[0;34m.\u001b[0m\u001b[0mstream\u001b[0m\u001b[0;34m.\u001b[0m\u001b[0msubmissions\u001b[0m\u001b[0;34m:\u001b[0m\u001b[0;34m\u001b[0m\u001b[0;34m\u001b[0m\u001b[0m\n\u001b[0m\u001b[1;32m      2\u001b[0m     \u001b[0mprint\u001b[0m\u001b[0;34m(\u001b[0m\u001b[0mdatetime\u001b[0m\u001b[0;34m.\u001b[0m\u001b[0mdatetime\u001b[0m\u001b[0;34m.\u001b[0m\u001b[0mfromstimestamp\u001b[0m\u001b[0;34m(\u001b[0m\u001b[0mentry\u001b[0m\u001b[0;34m.\u001b[0m\u001b[0mcreated\u001b[0m\u001b[0;34m)\u001b[0m\u001b[0;34m)\u001b[0m\u001b[0;34m\u001b[0m\u001b[0;34m\u001b[0m\u001b[0m\n",
      "\u001b[0;31mAttributeError\u001b[0m: 'ListingGenerator' object has no attribute 'stream'"
     ]
    }
   ],
   "source": [
    "for entry in wallstreetbets_new.stream.submissions:\n",
    "    print(datetime.datetime.fromstimestamp(entry.created))"
   ]
  },
  {
   "cell_type": "code",
   "execution_count": 11,
   "metadata": {},
   "outputs": [
    {
     "output_type": "execute_result",
     "data": {
      "text/plain": [
       "0     2021-03-23 02:23:20\n",
       "1     2021-03-23 02:22:49\n",
       "2     2021-03-23 02:18:58\n",
       "3     2021-03-23 02:15:12\n",
       "4     2021-03-23 02:13:15\n",
       "              ...        \n",
       "764   2021-03-17 06:16:44\n",
       "765   2021-03-17 06:15:55\n",
       "766   2021-03-17 06:09:26\n",
       "767   2021-03-17 06:02:02\n",
       "768   2021-03-17 06:02:01\n",
       "Name: created, Length: 769, dtype: datetime64[ns]"
      ]
     },
     "metadata": {},
     "execution_count": 11
    }
   ],
   "source": [
    "posts['created'] = pd.to_datetime(posts['created'], unit='s')\n",
    "posts['created']"
   ]
  },
  {
   "cell_type": "code",
   "execution_count": null,
   "metadata": {},
   "outputs": [],
   "source": []
  }
 ]
}