{
 "metadata": {
  "language_info": {
   "codemirror_mode": {
    "name": "ipython",
    "version": 3
   },
   "file_extension": ".py",
   "mimetype": "text/x-python",
   "name": "python",
   "nbconvert_exporter": "python",
   "pygments_lexer": "ipython3",
   "version": "3.7.10-final"
  },
  "orig_nbformat": 2,
  "kernelspec": {
   "name": "python3",
   "display_name": "Python 3.7.10 64-bit ('base': conda)",
   "metadata": {
    "interpreter": {
     "hash": "b7dce63e39a4a8c98f5a1ef1e65571106e15efed32663927d397570964b86d03"
    }
   }
  }
 },
 "nbformat": 4,
 "nbformat_minor": 2,
 "cells": [
  {
   "cell_type": "code",
   "execution_count": 1,
   "metadata": {},
   "outputs": [],
   "source": [
    "from pymongo import MongoClient\n",
    "import pprint\n",
    "import numpy as np\n",
    "import scipy.stats as stats\n",
    "import scipy\n",
    "\n",
    "import pandas as pd\n",
    "import matplotlib.pyplot as plt\n",
    "import matplotlib.patches as mpatches\n",
    "\n",
    "plt.style.use('fivethirtyeight')\n",
    "\n",
    "import requests\n",
    "\n",
    "from bs4 import BeautifulSoup\n",
    "\n",
    "import json\n",
    "import time\n",
    "import copy\n",
    "from datetime import datetime"
   ]
  },
  {
   "cell_type": "code",
   "execution_count": 45,
   "metadata": {},
   "outputs": [],
   "source": [
    "url = 'https://api.pushshift.io/reddit/search/submission/?&subreddit=pokemongo&after=80d&size=500'\n",
    "pokemongo_request = requests.get(url)\n",
    "pokemongo_pull = pokemongo_request.json()"
   ]
  },
  {
   "cell_type": "code",
   "execution_count": 46,
   "metadata": {},
   "outputs": [
    {
     "output_type": "execute_result",
     "data": {
      "text/plain": [
       "(100, 76)"
      ]
     },
     "metadata": {},
     "execution_count": 46
    }
   ],
   "source": [
    "pokemongo_df = pd.DataFrame(pokemongo_pull['data'])\n",
    "pokemongo_df.columns\n",
    "pokemongo_df.shape"
   ]
  },
  {
   "cell_type": "code",
   "execution_count": null,
   "metadata": {},
   "outputs": [],
   "source": [
    "date_after_lst = [3,4,5,6,7,8,9,10,11]\n",
    "date_before_lst = [2,3,4,5,6,7,8,9,10]"
   ]
  },
  {
   "cell_type": "code",
   "execution_count": 54,
   "metadata": {},
   "outputs": [],
   "source": [
    "def query_pushshift(name, limit, after, before, subreddit, query=\"\", num_comments=\">0\"):\n",
    "    \"\"\"Given search parameters, query pushshift and return JSON.\n",
    "    # https://github.com/pushshift/api\n",
    "    \"\"\"\n",
    "\n",
    "    if isinstance(after, str):\n",
    "        after_human = after\n",
    "    else:\n",
    "        after_human = time.strftime(\"%Y%m%d %H:%M:%S\", time.gmtime(after))\n",
    "    if isinstance(before, str):\n",
    "        before_human = before\n",
    "    else:\n",
    "        before_human = time.strftime(\"%Y%m%d %H:%M:%S\", time.gmtime(before))\n",
    "    critical(f\"******* between {after_human} and {before_human}\")\n",
    "\n",
    "    optional_params = \"\"\n",
    "    if after:\n",
    "        optional_params += f\"&after={after}\"\n",
    "    if before:\n",
    "        optional_params += f\"&before={before}\"\n",
    "    if num_comments:\n",
    "        optional_params += f\"&num_comments={num_comments}\"\n",
    "    if not args.moderated_include:\n",
    "        optional_params += f\"&selftext:not=[removed]\"\n",
    "\n",
    "    pushshift_url = (f\"https://api.pushshift.io/reddit/submission/search/\",f\"?limit={limit}&subreddit={subreddit}{optional_params}\")\n",
    "    \n",
    "    list_of_dicts = get_JSON(pushshift_url)[\"data\"]\n",
    "    return list_of_dicts"
   ]
  },
  {
   "cell_type": "code",
   "execution_count": 58,
   "metadata": {},
   "outputs": [
    {
     "output_type": "error",
     "ename": "NameError",
     "evalue": "name 'critical' is not defined",
     "traceback": [
      "\u001b[0;31m---------------------------------------------------------------------------\u001b[0m",
      "\u001b[0;31mNameError\u001b[0m                                 Traceback (most recent call last)",
      "\u001b[0;32m<ipython-input-58-7d81c6c9b183>\u001b[0m in \u001b[0;36m<module>\u001b[0;34m\u001b[0m\n\u001b[0;32m----> 1\u001b[0;31m \u001b[0mwid\u001b[0m \u001b[0;34m=\u001b[0m \u001b[0mquery_pushshift\u001b[0m\u001b[0;34m(\u001b[0m\u001b[0mname\u001b[0m\u001b[0;34m=\u001b[0m\u001b[0mall\u001b[0m\u001b[0;34m,\u001b[0m \u001b[0mlimit\u001b[0m\u001b[0;34m=\u001b[0m\u001b[0;36m5000\u001b[0m\u001b[0;34m,\u001b[0m \u001b[0mafter\u001b[0m\u001b[0;34m=\u001b[0m\u001b[0;36m2020\u001b[0m\u001b[0;34m-\u001b[0m\u001b[0;36m1\u001b[0m\u001b[0;34m-\u001b[0m\u001b[0;36m1\u001b[0m\u001b[0;34m,\u001b[0m \u001b[0mbefore\u001b[0m\u001b[0;34m=\u001b[0m\u001b[0;36m2021\u001b[0m\u001b[0;34m-\u001b[0m\u001b[0;36m1\u001b[0m\u001b[0;34m-\u001b[0m\u001b[0;36m1\u001b[0m\u001b[0;34m,\u001b[0m \u001b[0msubreddit\u001b[0m \u001b[0;34m=\u001b[0m \u001b[0;34m'pokemongo'\u001b[0m\u001b[0;34m,\u001b[0m \u001b[0mquery\u001b[0m\u001b[0;34m=\u001b[0m\u001b[0;34m\"\"\u001b[0m\u001b[0;34m,\u001b[0m \u001b[0mnum_comments\u001b[0m\u001b[0;34m=\u001b[0m\u001b[0;34m\">0\"\u001b[0m\u001b[0;34m)\u001b[0m\u001b[0;34m\u001b[0m\u001b[0;34m\u001b[0m\u001b[0m\n\u001b[0m",
      "\u001b[0;32m<ipython-input-54-38bdc1188913>\u001b[0m in \u001b[0;36mquery_pushshift\u001b[0;34m(name, limit, after, before, subreddit, query, num_comments)\u001b[0m\n\u001b[1;32m     12\u001b[0m     \u001b[0;32melse\u001b[0m\u001b[0;34m:\u001b[0m\u001b[0;34m\u001b[0m\u001b[0;34m\u001b[0m\u001b[0m\n\u001b[1;32m     13\u001b[0m         \u001b[0mbefore_human\u001b[0m \u001b[0;34m=\u001b[0m \u001b[0mtime\u001b[0m\u001b[0;34m.\u001b[0m\u001b[0mstrftime\u001b[0m\u001b[0;34m(\u001b[0m\u001b[0;34m\"%Y%m%d %H:%M:%S\"\u001b[0m\u001b[0;34m,\u001b[0m \u001b[0mtime\u001b[0m\u001b[0;34m.\u001b[0m\u001b[0mgmtime\u001b[0m\u001b[0;34m(\u001b[0m\u001b[0mbefore\u001b[0m\u001b[0;34m)\u001b[0m\u001b[0;34m)\u001b[0m\u001b[0;34m\u001b[0m\u001b[0;34m\u001b[0m\u001b[0m\n\u001b[0;32m---> 14\u001b[0;31m     \u001b[0mcritical\u001b[0m\u001b[0;34m(\u001b[0m\u001b[0;34mf\"******* between {after_human} and {before_human}\"\u001b[0m\u001b[0;34m)\u001b[0m\u001b[0;34m\u001b[0m\u001b[0;34m\u001b[0m\u001b[0m\n\u001b[0m\u001b[1;32m     15\u001b[0m \u001b[0;34m\u001b[0m\u001b[0m\n\u001b[1;32m     16\u001b[0m     \u001b[0moptional_params\u001b[0m \u001b[0;34m=\u001b[0m \u001b[0;34m\"\"\u001b[0m\u001b[0;34m\u001b[0m\u001b[0;34m\u001b[0m\u001b[0m\n",
      "\u001b[0;31mNameError\u001b[0m: name 'critical' is not defined"
     ]
    }
   ],
   "source": [
    "wid = query_pushshift(name=all, limit=5000, after=2020-1-1, before=2021-1-1, subreddit = 'pokemongo', query=\"\", num_comments=\">0\")"
   ]
  },
  {
   "cell_type": "code",
   "execution_count": null,
   "metadata": {},
   "outputs": [],
   "source": []
  }
 ]
}