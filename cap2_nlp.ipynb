{
 "metadata": {
  "language_info": {
   "codemirror_mode": {
    "name": "ipython",
    "version": 3
   },
   "file_extension": ".py",
   "mimetype": "text/x-python",
   "name": "python",
   "nbconvert_exporter": "python",
   "pygments_lexer": "ipython3",
   "version": "3.7.10"
  },
  "orig_nbformat": 2,
  "kernelspec": {
   "name": "python3",
   "display_name": "Python 3.7.10 64-bit ('base': conda)",
   "metadata": {
    "interpreter": {
     "hash": "b7dce63e39a4a8c98f5a1ef1e65571106e15efed32663927d397570964b86d03"
    }
   }
  }
 },
 "nbformat": 4,
 "nbformat_minor": 2,
 "cells": [
  {
   "cell_type": "code",
   "execution_count": 1,
   "metadata": {},
   "outputs": [],
   "source": [
    "from pymongo import MongoClient\n",
    "import pprint\n",
    "import numpy as np\n",
    "import scipy.stats as stats\n",
    "import scipy\n",
    "\n",
    "import pandas as pd\n",
    "import matplotlib.pyplot as plt\n",
    "import matplotlib.patches as mpatches\n",
    "\n",
    "plt.style.use('fivethirtyeight')\n",
    "\n",
    "import requests\n",
    "\n",
    "from bs4 import BeautifulSoup\n",
    "\n",
    "import json\n",
    "import time\n",
    "import copy\n",
    "from datetime import datetime"
   ]
  },
  {
   "cell_type": "code",
   "execution_count": 2,
   "metadata": {},
   "outputs": [],
   "source": [
    "pokemon_df_complete = pd.read_csv('~/DSI_ii/cap_stones/DSI_CS2/data/pokemongo_new.csv')"
   ]
  },
  {
   "cell_type": "code",
   "execution_count": 3,
   "metadata": {},
   "outputs": [
    {
     "output_type": "execute_result",
     "data": {
      "text/plain": [
       "     Unnamed: 0                                              title  score  \\\n",
       "0             0  What’s the meta right now for the premier league?      1   \n",
       "1             1                  A gaze open him in disappointment      4   \n",
       "2             2                Niantic AR Glasses are coming soon!      2   \n",
       "3             3                    The Higher They Fly... research      3   \n",
       "4             4  Can I get still get shadow mewtwo if i beat gi...      2   \n",
       "..          ...                                                ...    ...   \n",
       "978         978                                         Raid issue      1   \n",
       "979         979                                   Referral Rewards     43   \n",
       "980         980  Only took me about 3 years! Just in time for m...     35   \n",
       "981         981  How to get multiple of the same task from the ...      0   \n",
       "982         982                           Pokémon GO referral code      0   \n",
       "\n",
       "         id  subreddit                                                url  \\\n",
       "0    mfz6c6  pokemongo  https://www.reddit.com/r/pokemongo/comments/mf...   \n",
       "1    mfyy6y  pokemongo                https://i.redd.it/i2nuhrod31q61.jpg   \n",
       "2    mfyvpl  pokemongo  https://twitter.com/johnhanke/status/137662474...   \n",
       "3    mfytk6  pokemongo  https://www.reddit.com/r/pokemongo/comments/mf...   \n",
       "4    mfyqmj  pokemongo  https://www.reddit.com/r/pokemongo/comments/mf...   \n",
       "..      ...        ...                                                ...   \n",
       "978  m7fsak  pokemongo  https://www.reddit.com/r/pokemongo/comments/m7...   \n",
       "979  m7fn92  pokemongo                https://i.redd.it/73ahpz54ton61.jpg   \n",
       "980  m7f7wz  pokemongo  https://www.reddit.com/r/pokemongo/comments/m7...   \n",
       "981  m7f6he  pokemongo  https://www.reddit.com/r/pokemongo/comments/m7...   \n",
       "982  m7f4hp  pokemongo  https://www.reddit.com/r/pokemongo/comments/m7...   \n",
       "\n",
       "     num_comments                                               body  \\\n",
       "0               2  Just wondering what most people would consider...   \n",
       "1               8                                                NaN   \n",
       "2               0                                                NaN   \n",
       "3               3  My brother just finished defeating Giovanni, g...   \n",
       "4               9  So i just complete an Inter-egg-sting developm...   \n",
       "..            ...                                                ...   \n",
       "978             2  Me and my friend were doing a raid and used ou...   \n",
       "979            24                                                NaN   \n",
       "980             7  I'm so happy to finally hit 40, I've been work...   \n",
       "981             7  So I’m out trying to get the Gible task, I got...   \n",
       "982            15  If you join or return to Pokémon GO using my r...   \n",
       "\n",
       "                 created  \n",
       "0    2021-03-30 04:49:12  \n",
       "1    2021-03-30 04:39:06  \n",
       "2    2021-03-30 04:35:53  \n",
       "3    2021-03-30 04:33:09  \n",
       "4    2021-03-30 04:29:36  \n",
       "..                   ...  \n",
       "978  2021-03-18 09:20:19  \n",
       "979  2021-03-18 09:12:34  \n",
       "980  2021-03-18 08:49:35  \n",
       "981  2021-03-18 08:47:25  \n",
       "982  2021-03-18 08:44:27  \n",
       "\n",
       "[983 rows x 9 columns]"
      ],
      "text/html": "<div>\n<style scoped>\n    .dataframe tbody tr th:only-of-type {\n        vertical-align: middle;\n    }\n\n    .dataframe tbody tr th {\n        vertical-align: top;\n    }\n\n    .dataframe thead th {\n        text-align: right;\n    }\n</style>\n<table border=\"1\" class=\"dataframe\">\n  <thead>\n    <tr style=\"text-align: right;\">\n      <th></th>\n      <th>Unnamed: 0</th>\n      <th>title</th>\n      <th>score</th>\n      <th>id</th>\n      <th>subreddit</th>\n      <th>url</th>\n      <th>num_comments</th>\n      <th>body</th>\n      <th>created</th>\n    </tr>\n  </thead>\n  <tbody>\n    <tr>\n      <th>0</th>\n      <td>0</td>\n      <td>What’s the meta right now for the premier league?</td>\n      <td>1</td>\n      <td>mfz6c6</td>\n      <td>pokemongo</td>\n      <td>https://www.reddit.com/r/pokemongo/comments/mf...</td>\n      <td>2</td>\n      <td>Just wondering what most people would consider...</td>\n      <td>2021-03-30 04:49:12</td>\n    </tr>\n    <tr>\n      <th>1</th>\n      <td>1</td>\n      <td>A gaze open him in disappointment</td>\n      <td>4</td>\n      <td>mfyy6y</td>\n      <td>pokemongo</td>\n      <td>https://i.redd.it/i2nuhrod31q61.jpg</td>\n      <td>8</td>\n      <td>NaN</td>\n      <td>2021-03-30 04:39:06</td>\n    </tr>\n    <tr>\n      <th>2</th>\n      <td>2</td>\n      <td>Niantic AR Glasses are coming soon!</td>\n      <td>2</td>\n      <td>mfyvpl</td>\n      <td>pokemongo</td>\n      <td>https://twitter.com/johnhanke/status/137662474...</td>\n      <td>0</td>\n      <td>NaN</td>\n      <td>2021-03-30 04:35:53</td>\n    </tr>\n    <tr>\n      <th>3</th>\n      <td>3</td>\n      <td>The Higher They Fly... research</td>\n      <td>3</td>\n      <td>mfytk6</td>\n      <td>pokemongo</td>\n      <td>https://www.reddit.com/r/pokemongo/comments/mf...</td>\n      <td>3</td>\n      <td>My brother just finished defeating Giovanni, g...</td>\n      <td>2021-03-30 04:33:09</td>\n    </tr>\n    <tr>\n      <th>4</th>\n      <td>4</td>\n      <td>Can I get still get shadow mewtwo if i beat gi...</td>\n      <td>2</td>\n      <td>mfyqmj</td>\n      <td>pokemongo</td>\n      <td>https://www.reddit.com/r/pokemongo/comments/mf...</td>\n      <td>9</td>\n      <td>So i just complete an Inter-egg-sting developm...</td>\n      <td>2021-03-30 04:29:36</td>\n    </tr>\n    <tr>\n      <th>...</th>\n      <td>...</td>\n      <td>...</td>\n      <td>...</td>\n      <td>...</td>\n      <td>...</td>\n      <td>...</td>\n      <td>...</td>\n      <td>...</td>\n      <td>...</td>\n    </tr>\n    <tr>\n      <th>978</th>\n      <td>978</td>\n      <td>Raid issue</td>\n      <td>1</td>\n      <td>m7fsak</td>\n      <td>pokemongo</td>\n      <td>https://www.reddit.com/r/pokemongo/comments/m7...</td>\n      <td>2</td>\n      <td>Me and my friend were doing a raid and used ou...</td>\n      <td>2021-03-18 09:20:19</td>\n    </tr>\n    <tr>\n      <th>979</th>\n      <td>979</td>\n      <td>Referral Rewards</td>\n      <td>43</td>\n      <td>m7fn92</td>\n      <td>pokemongo</td>\n      <td>https://i.redd.it/73ahpz54ton61.jpg</td>\n      <td>24</td>\n      <td>NaN</td>\n      <td>2021-03-18 09:12:34</td>\n    </tr>\n    <tr>\n      <th>980</th>\n      <td>980</td>\n      <td>Only took me about 3 years! Just in time for m...</td>\n      <td>35</td>\n      <td>m7f7wz</td>\n      <td>pokemongo</td>\n      <td>https://www.reddit.com/r/pokemongo/comments/m7...</td>\n      <td>7</td>\n      <td>I'm so happy to finally hit 40, I've been work...</td>\n      <td>2021-03-18 08:49:35</td>\n    </tr>\n    <tr>\n      <th>981</th>\n      <td>981</td>\n      <td>How to get multiple of the same task from the ...</td>\n      <td>0</td>\n      <td>m7f6he</td>\n      <td>pokemongo</td>\n      <td>https://www.reddit.com/r/pokemongo/comments/m7...</td>\n      <td>7</td>\n      <td>So I’m out trying to get the Gible task, I got...</td>\n      <td>2021-03-18 08:47:25</td>\n    </tr>\n    <tr>\n      <th>982</th>\n      <td>982</td>\n      <td>Pokémon GO referral code</td>\n      <td>0</td>\n      <td>m7f4hp</td>\n      <td>pokemongo</td>\n      <td>https://www.reddit.com/r/pokemongo/comments/m7...</td>\n      <td>15</td>\n      <td>If you join or return to Pokémon GO using my r...</td>\n      <td>2021-03-18 08:44:27</td>\n    </tr>\n  </tbody>\n</table>\n<p>983 rows × 9 columns</p>\n</div>"
     },
     "metadata": {},
     "execution_count": 3
    }
   ],
   "source": [
    "pokemon_df_complete"
   ]
  },
  {
   "cell_type": "code",
   "execution_count": 4,
   "metadata": {},
   "outputs": [],
   "source": [
    "pokemon_df = pokemon_df_complete[pokemon_df_complete.created <'2021-03-29 10:49:12']"
   ]
  },
  {
   "cell_type": "code",
   "execution_count": 5,
   "metadata": {},
   "outputs": [
    {
     "output_type": "execute_result",
     "data": {
      "text/plain": [
       "                                                 title  score      id  \\\n",
       "76                        Kyogre.. what are you doing?     42  mffwsy   \n",
       "77             How’s everyone’s shiny Mew quest going?      1  mfflil   \n",
       "78          Oh, nvm, there’s another one a block over!    303  mffjio   \n",
       "79                                          Quick Rant      4  mffi4a   \n",
       "80                                  Not shiny rayquaza      3  mffb8v   \n",
       "..                                                 ...    ...     ...   \n",
       "978                                         Raid issue      1  m7fsak   \n",
       "979                                   Referral Rewards     43  m7fn92   \n",
       "980  Only took me about 3 years! Just in time for m...     35  m7f7wz   \n",
       "981  How to get multiple of the same task from the ...      0  m7f6he   \n",
       "982                           Pokémon GO referral code      0  m7f4hp   \n",
       "\n",
       "     subreddit                                                url  \\\n",
       "76   pokemongo                https://i.redd.it/jpgidk26qvp61.jpg   \n",
       "77   pokemongo  https://www.reddit.com/r/pokemongo/comments/mf...   \n",
       "78   pokemongo                https://i.redd.it/0zhcza88mvp61.jpg   \n",
       "79   pokemongo  https://www.reddit.com/r/pokemongo/comments/mf...   \n",
       "80   pokemongo  https://www.reddit.com/r/pokemongo/comments/mf...   \n",
       "..         ...                                                ...   \n",
       "978  pokemongo  https://www.reddit.com/r/pokemongo/comments/m7...   \n",
       "979  pokemongo                https://i.redd.it/73ahpz54ton61.jpg   \n",
       "980  pokemongo  https://www.reddit.com/r/pokemongo/comments/m7...   \n",
       "981  pokemongo  https://www.reddit.com/r/pokemongo/comments/m7...   \n",
       "982  pokemongo  https://www.reddit.com/r/pokemongo/comments/m7...   \n",
       "\n",
       "     num_comments                                               body  \\\n",
       "76             10                                                NaN   \n",
       "77             20  All I can say is I have never walked so much i...   \n",
       "78             14                                                NaN   \n",
       "79              3  Anyone else sick of reward pokemon (like for r...   \n",
       "80              1  It may not be a shiny rayquaza, nor are its iv...   \n",
       "..            ...                                                ...   \n",
       "978             2  Me and my friend were doing a raid and used ou...   \n",
       "979            24                                                NaN   \n",
       "980             7  I'm so happy to finally hit 40, I've been work...   \n",
       "981             7  So I’m out trying to get the Gible task, I got...   \n",
       "982            15  If you join or return to Pokémon GO using my r...   \n",
       "\n",
       "                 created  \n",
       "76   2021-03-29 10:36:08  \n",
       "77   2021-03-29 10:17:17  \n",
       "78   2021-03-29 10:14:03  \n",
       "79   2021-03-29 10:11:53  \n",
       "80   2021-03-29 10:00:49  \n",
       "..                   ...  \n",
       "978  2021-03-18 09:20:19  \n",
       "979  2021-03-18 09:12:34  \n",
       "980  2021-03-18 08:49:35  \n",
       "981  2021-03-18 08:47:25  \n",
       "982  2021-03-18 08:44:27  \n",
       "\n",
       "[907 rows x 8 columns]"
      ],
      "text/html": "<div>\n<style scoped>\n    .dataframe tbody tr th:only-of-type {\n        vertical-align: middle;\n    }\n\n    .dataframe tbody tr th {\n        vertical-align: top;\n    }\n\n    .dataframe thead th {\n        text-align: right;\n    }\n</style>\n<table border=\"1\" class=\"dataframe\">\n  <thead>\n    <tr style=\"text-align: right;\">\n      <th></th>\n      <th>title</th>\n      <th>score</th>\n      <th>id</th>\n      <th>subreddit</th>\n      <th>url</th>\n      <th>num_comments</th>\n      <th>body</th>\n      <th>created</th>\n    </tr>\n  </thead>\n  <tbody>\n    <tr>\n      <th>76</th>\n      <td>Kyogre.. what are you doing?</td>\n      <td>42</td>\n      <td>mffwsy</td>\n      <td>pokemongo</td>\n      <td>https://i.redd.it/jpgidk26qvp61.jpg</td>\n      <td>10</td>\n      <td>NaN</td>\n      <td>2021-03-29 10:36:08</td>\n    </tr>\n    <tr>\n      <th>77</th>\n      <td>How’s everyone’s shiny Mew quest going?</td>\n      <td>1</td>\n      <td>mfflil</td>\n      <td>pokemongo</td>\n      <td>https://www.reddit.com/r/pokemongo/comments/mf...</td>\n      <td>20</td>\n      <td>All I can say is I have never walked so much i...</td>\n      <td>2021-03-29 10:17:17</td>\n    </tr>\n    <tr>\n      <th>78</th>\n      <td>Oh, nvm, there’s another one a block over!</td>\n      <td>303</td>\n      <td>mffjio</td>\n      <td>pokemongo</td>\n      <td>https://i.redd.it/0zhcza88mvp61.jpg</td>\n      <td>14</td>\n      <td>NaN</td>\n      <td>2021-03-29 10:14:03</td>\n    </tr>\n    <tr>\n      <th>79</th>\n      <td>Quick Rant</td>\n      <td>4</td>\n      <td>mffi4a</td>\n      <td>pokemongo</td>\n      <td>https://www.reddit.com/r/pokemongo/comments/mf...</td>\n      <td>3</td>\n      <td>Anyone else sick of reward pokemon (like for r...</td>\n      <td>2021-03-29 10:11:53</td>\n    </tr>\n    <tr>\n      <th>80</th>\n      <td>Not shiny rayquaza</td>\n      <td>3</td>\n      <td>mffb8v</td>\n      <td>pokemongo</td>\n      <td>https://www.reddit.com/r/pokemongo/comments/mf...</td>\n      <td>1</td>\n      <td>It may not be a shiny rayquaza, nor are its iv...</td>\n      <td>2021-03-29 10:00:49</td>\n    </tr>\n    <tr>\n      <th>...</th>\n      <td>...</td>\n      <td>...</td>\n      <td>...</td>\n      <td>...</td>\n      <td>...</td>\n      <td>...</td>\n      <td>...</td>\n      <td>...</td>\n    </tr>\n    <tr>\n      <th>978</th>\n      <td>Raid issue</td>\n      <td>1</td>\n      <td>m7fsak</td>\n      <td>pokemongo</td>\n      <td>https://www.reddit.com/r/pokemongo/comments/m7...</td>\n      <td>2</td>\n      <td>Me and my friend were doing a raid and used ou...</td>\n      <td>2021-03-18 09:20:19</td>\n    </tr>\n    <tr>\n      <th>979</th>\n      <td>Referral Rewards</td>\n      <td>43</td>\n      <td>m7fn92</td>\n      <td>pokemongo</td>\n      <td>https://i.redd.it/73ahpz54ton61.jpg</td>\n      <td>24</td>\n      <td>NaN</td>\n      <td>2021-03-18 09:12:34</td>\n    </tr>\n    <tr>\n      <th>980</th>\n      <td>Only took me about 3 years! Just in time for m...</td>\n      <td>35</td>\n      <td>m7f7wz</td>\n      <td>pokemongo</td>\n      <td>https://www.reddit.com/r/pokemongo/comments/m7...</td>\n      <td>7</td>\n      <td>I'm so happy to finally hit 40, I've been work...</td>\n      <td>2021-03-18 08:49:35</td>\n    </tr>\n    <tr>\n      <th>981</th>\n      <td>How to get multiple of the same task from the ...</td>\n      <td>0</td>\n      <td>m7f6he</td>\n      <td>pokemongo</td>\n      <td>https://www.reddit.com/r/pokemongo/comments/m7...</td>\n      <td>7</td>\n      <td>So I’m out trying to get the Gible task, I got...</td>\n      <td>2021-03-18 08:47:25</td>\n    </tr>\n    <tr>\n      <th>982</th>\n      <td>Pokémon GO referral code</td>\n      <td>0</td>\n      <td>m7f4hp</td>\n      <td>pokemongo</td>\n      <td>https://www.reddit.com/r/pokemongo/comments/m7...</td>\n      <td>15</td>\n      <td>If you join or return to Pokémon GO using my r...</td>\n      <td>2021-03-18 08:44:27</td>\n    </tr>\n  </tbody>\n</table>\n<p>907 rows × 8 columns</p>\n</div>"
     },
     "metadata": {},
     "execution_count": 5
    }
   ],
   "source": [
    "pokemon_df.drop(pokemon_df.columns[0],axis=1)"
   ]
  },
  {
   "cell_type": "code",
   "execution_count": 6,
   "metadata": {},
   "outputs": [
    {
     "output_type": "stream",
     "name": "stderr",
     "text": [
      "/home/thomas/anaconda3/lib/python3.7/site-packages/ipykernel_launcher.py:1: SettingWithCopyWarning: \nA value is trying to be set on a copy of a slice from a DataFrame.\nTry using .loc[row_indexer,col_indexer] = value instead\n\nSee the caveats in the documentation: https://pandas.pydata.org/pandas-docs/stable/user_guide/indexing.html#returning-a-view-versus-a-copy\n  \"\"\"Entry point for launching an IPython kernel.\n"
     ]
    }
   ],
   "source": [
    "pokemon_df['low_score'] = pokemon_df['score']<=1"
   ]
  },
  {
   "cell_type": "code",
   "execution_count": 8,
   "metadata": {},
   "outputs": [],
   "source": [
    "from bs4 import BeautifulSoup"
   ]
  },
  {
   "cell_type": "code",
   "execution_count": 9,
   "metadata": {},
   "outputs": [],
   "source": [
    "import unicodedata\n",
    "\n",
    "def remove_accents(input_str:str) -> str:\n",
    "    '''Removes accents from input string'''\n",
    "    nfkd_form = unicodedata.normalize('NFKD', input_str)\n",
    "    only_ascii = nfkd_form.encode('ASCII', 'ignore')\n",
    "    return only_ascii.decode()\n",
    "\n",
    "def filter_tokens(tokens:list, stops:object) -> list:\n",
    "    \"\"\"Filters tokens base on membership in stop list\"\"\"\n",
    "#     split_punc = lambda x: \n",
    "    res = []\n",
    "    check = [\".\", \"-\"]\n",
    "    for token in tokens:\n",
    "        if token not in stops and token.isalpha():\n",
    "            if check[0] in token:\n",
    "                res += token.partition(check[0])\n",
    "            elif check[1] in token:\n",
    "                res += token.partition(check[1])\n",
    "            else:\n",
    "                res.append(token)\n",
    "    return res"
   ]
  },
  {
   "cell_type": "code",
   "execution_count": 10,
   "metadata": {},
   "outputs": [],
   "source": [
    "from collections import Counter\n",
    "import re\n",
    "import json\n",
    "from pprint import pprint\n",
    "import string\n",
    "from sklearn.feature_extraction.text import TfidfVectorizer\n",
    "\n",
    "# NLTK Modules\n",
    "import nltk\n",
    "from nltk.stem.porter import PorterStemmer\n",
    "from nltk.tokenize import word_tokenize,sent_tokenize\n",
    "from nltk.stem.snowball import SnowballStemmer\n",
    "from nltk.stem.wordnet import WordNetLemmatizer\n",
    "from nltk.corpus import stopwords\n",
    "from src.cleaner import clean_data\n",
    "from src.helpers import *"
   ]
  },
  {
   "cell_type": "code",
   "execution_count": 11,
   "metadata": {},
   "outputs": [],
   "source": [
    "bnlp_df = pokemon_df['body']\n",
    "bnlp_df = bnlp_df.fillna('')"
   ]
  },
  {
   "cell_type": "code",
   "execution_count": 12,
   "metadata": {},
   "outputs": [],
   "source": [
    "import string\n",
    "import unicodedata\n",
    "from nltk.util import ngrams\n",
    "from nltk import pos_tag\n",
    "from nltk import RegexpParser"
   ]
  },
  {
   "cell_type": "code",
   "execution_count": 13,
   "metadata": {},
   "outputs": [],
   "source": [
    "y = pokemon_df['low_score']"
   ]
  },
  {
   "cell_type": "code",
   "execution_count": 20,
   "metadata": {},
   "outputs": [
    {
     "output_type": "execute_result",
     "data": {
      "text/plain": [
       "array([[0, 0, 0, ..., 0, 0, 0],\n",
       "       [0, 0, 0, ..., 0, 0, 0],\n",
       "       [0, 0, 0, ..., 0, 0, 0],\n",
       "       ...,\n",
       "       [0, 0, 0, ..., 0, 0, 0],\n",
       "       [0, 0, 0, ..., 0, 0, 0],\n",
       "       [0, 0, 0, ..., 0, 0, 0]])"
      ]
     },
     "metadata": {},
     "execution_count": 20
    }
   ],
   "source": [
    "from sklearn.feature_extraction.text import CountVectorizer\n",
    "\n",
    "vectorizer = CountVectorizer()\n",
    "X = vectorizer.fit_transform(bnlp_df)\n",
    "X.toarray()"
   ]
  },
  {
   "cell_type": "code",
   "execution_count": 16,
   "metadata": {},
   "outputs": [],
   "source": [
    "# vectorizer2 = CountVectorizer(ngram_range=(1,2))\n",
    "# vectorizer2.fit_transform(corpus)\n",
    "# vectorizer2.get_feature_names()"
   ]
  },
  {
   "cell_type": "code",
   "execution_count": 21,
   "metadata": {
    "tags": []
   },
   "outputs": [],
   "source": [
    "vectorizer = TfidfVectorizer()\n",
    "X = vectorizer.fit_transform(bnlp_df)"
   ]
  },
  {
   "cell_type": "code",
   "execution_count": 22,
   "metadata": {},
   "outputs": [],
   "source": [
    "import numpy as np\n",
    "from pymongo import MongoClient\n",
    "from nltk.tokenize import word_tokenize, wordpunct_tokenize, RegexpTokenizer\n",
    "from sklearn.feature_extraction.text import CountVectorizer, TfidfVectorizer\n",
    "from nltk.stem.snowball import SnowballStemmer\n",
    "from sklearn import preprocessing\n",
    "from sklearn.model_selection import train_test_split\n",
    "from sklearn.naive_bayes import MultinomialNB as SKMultinomialNB"
   ]
  },
  {
   "cell_type": "code",
   "execution_count": 23,
   "metadata": {},
   "outputs": [],
   "source": [
    "X_train, X_test, y_train, y_test = train_test_split(X, y)"
   ]
  },
  {
   "cell_type": "code",
   "execution_count": 24,
   "metadata": {},
   "outputs": [
    {
     "output_type": "execute_result",
     "data": {
      "text/plain": [
       "MultinomialNB()"
      ]
     },
     "metadata": {},
     "execution_count": 24
    }
   ],
   "source": [
    "n_b_multi = SKMultinomialNB()\n",
    "n_b_multi.fit(X,y)"
   ]
  },
  {
   "cell_type": "code",
   "execution_count": 25,
   "metadata": {},
   "outputs": [
    {
     "output_type": "stream",
     "name": "stdout",
     "text": [
      "0.8161764705882353\n"
     ]
    }
   ],
   "source": [
    "print(n_b_multi.score(X_train, y_train))"
   ]
  },
  {
   "cell_type": "code",
   "execution_count": 26,
   "metadata": {},
   "outputs": [],
   "source": [
    "n_b_multi_train_score = []\n",
    "n_b_multi_test_score = []\n",
    "\n",
    "for _ in range(1000):\n",
    "    X_train, X_test, y_train, y_test = train_test_split(X, y)\n",
    "    n_b_multi.fit(X,y)\n",
    "    n_b_multi_train_score.append(n_b_multi.score(X_train, y_train))\n",
    "    n_b_multi_test_score.append(n_b_multi.score(X_test, y_test))"
   ]
  },
  {
   "cell_type": "code",
   "execution_count": 27,
   "metadata": {},
   "outputs": [],
   "source": [
    "import matplotlib.pyplot as plot"
   ]
  },
  {
   "cell_type": "code",
   "execution_count": 17,
   "metadata": {},
   "outputs": [],
   "source": [
    "from sklearn.ensemble import RandomForestClassifier"
   ]
  },
  {
   "cell_type": "code",
   "execution_count": 55,
   "metadata": {},
   "outputs": [],
   "source": [
    "rf = RandomForestClassifier(max_depth=100, max_features = 5, oob_score=True)\n",
    "\n",
    "X_train, X_test, y_train, y_test = train_test_split(X, y)\n",
    "rf.fit(X,y)\n",
    "title_nb_m_train_s = rf.score(X_train, y_train)\n",
    "title_nb_m_test_s = rf.score(X_test, y_test)"
   ]
  },
  {
   "cell_type": "code",
   "execution_count": 56,
   "metadata": {},
   "outputs": [
    {
     "output_type": "stream",
     "name": "stdout",
     "text": [
      "0.973568281938326\n0.973568281938326\n"
     ]
    }
   ],
   "source": [
    "print(title_nb_m_test_s)\n",
    "print(title_nb_m_test_s)"
   ]
  },
  {
   "cell_type": "code",
   "execution_count": 67,
   "metadata": {
    "tags": [
     "outputPrepend"
    ]
   },
   "outputs": [
    {
     "output_type": "stream",
     "name": "stdout",
     "text": [
      "'most', 'mostly', 'motion', 'motivated', 'motivation', 'mouth', 'move', 'moved', 'movement', 'moves', 'moveset', 'movesets', 'movie', 'mph', 'mqpii4ix9h8eny6sq1m', 'mr', 'ms', 'much', 'mud', 'mudshot', 'muk', 'multiple', 'mumbai', 'murders', 'must', 'mustang', 'mute', 'muted', 'my', 'myself', 'mystery', 'mystic', 'mystic7', 'mystical', 'mythical', 'mythicals', 'n760wxt', 'nah', 'name', 'named', 'names', 'naming', 'narrative', 'narrowly', 'nasty', 'nationals', 'nature', 'naught', 'near', 'nearby', 'nearly', 'neat', 'necessarily', 'necessary', 'need', 'needed', 'needing', 'needless', 'needs', 'negative', 'neighborhood', 'nerf', 'ness', 'nest', 'nesting', 'nestmigration', 'nests', 'netherlands', 'network', 'neutral', 'never', 'nevertheless', 'new', 'newbie', 'newer', 'newest', 'newly', 'news', 'next', 'nfts', 'ngl', 'niantic', 'nianticlabs', 'nice', 'niche', 'nickname', 'nidoqueen', 'nidoran', 'night', 'ninetails', 'nintendo', 'no', 'nobody', 'nominate', 'nomination', 'non', 'none', 'noob', 'noobs', 'noooo', 'nope', 'nor', 'normal', 'north', 'nosepass', 'not', 'note', 'note9', 'notes', 'nothing', 'noticeable', 'noticed', 'notification', 'notifications', 'nov', 'november', 'now', 'nowhere', 'nr', 'nub', 'nuisance', 'nukes', 'number', 'numbers', 'numerous', 'nurse', 'nuzleaf', 'obituary', 'objective', 'objectives', 'obnoxious', 'observe', 'obsessive', 'obsolete', 'obstagoon', 'obtain', 'obvious', 'obviously', 'occasions', 'octazuka', 'october', 'oddish', 'odds', 'of', 'off', 'offence', 'offered', 'offers', 'offices', 'official', 'offline', 'often', 'oh', 'ohio', 'ojt', 'ok', 'okay', 'okcsozi', 'ol', 'old', 'older', 'omg', 'on', 'once', 'one', 'ones', 'online', 'only', 'onto', 'ooh', 'oooh', 'oops', 'op', 'open', 'opened', 'opening', 'openings', 'opens', 'opinion', 'opinions', 'opponent', 'opponents', 'opportunity', 'opposed', 'optimally', 'option', 'options', 'or', 'order', 'organise', 'original', 'os', 'ossd', 'ostensibly', 'ot', 'other', 'others', 'otherwise', 'our', 'out', 'outcome', 'outdated', 'outdoors', 'outfits', 'outliers', 'outrage', 'outs', 'outside', 'outweigh', 'over', 'overall', 'overpoweeeeeered', 'overthinking', 'ow', 'owahtjed5sp61', 'own', 'owner', 'oxvjexr', 'oxymorons', 'package', 'packed', 'page', 'paid', 'pain', 'pair', 'paired', 'pardon', 'parent', 'parents', 'park', 'parks', 'part', 'participaiting', 'participate', 'particular', 'particularly', 'partner', 'party', 'pass', 'passes', 'password', 'past', 'paste', 'patient', 'patiently', 'pattern', 'pay', 'paying', 'pc', 'pc8utyu', 'peace', 'peck', 'penalty', 'pengs', 'penny', 'people', 'peoples', 'per', 'perceive', 'percent', 'percentage', 'percentages', 'perfect', 'perfectionist', 'perfectly', 'performance', 'performed', 'performing', 'performs', 'perhaps', 'period', 'perks', 'perma', 'permanent', 'permanently', 'perseverance', 'persian', 'person', 'personal', 'personality', 'personally', 'pet', 'petition', 'pg', 'pgo', 'phantom', 'phase', 'phenomenally', 'phone', 'phones', 'photo', 'photos', 'phrases', 'phychics', 'pic', 'pick', 'picked', 'pics', 'picture', 'pictures', 'piddling', 'pidgeot', 'pidove', 'piece', 'pieces', 'pikachu', 'pile', 'pinap', 'pinaps', 'pineappe', 'ping', 'pink', 'piplup', 'pitch', 'pjpg', 'pkmgo', 'place', 'placed', 'places', 'placing', 'plagued', 'plan', 'plane', 'planned', 'planning', 'plant', 'plants', 'plate', 'platinum', 'plausible', 'play', 'played', 'player', 'players', 'playground', 'playing', 'plays', 'please', 'plenty', 'pls', 'plus', 'plusle', 'plz', 'pm', 'pmbkpl1wfaa', 'png', 'pngs', 'pocket', 'poffins', 'pogo', 'point', 'points', 'poison', 'pojo', 'poke', 'pokeball', 'pokeballs', 'pokecoin', 'pokecoins', 'pokedex', 'pokegenie', 'pokegym', 'pokemon', 'pokemongo', 'pokemongofriends', 'pokemongoivs', 'pokemongolive', 'pokemongomods', 'pokemons', 'pokeshop', 'pokestop', 'pokestops', 'poketcg', 'poké', 'pokéballs', 'pokédex', 'pokémon', 'pokémongo', 'pokémons', 'pokéstop', 'pokéstops', 'politode', 'poochyena', 'poor', 'pop', 'popcorn', 'popped', 'popping', 'pops', 'popular', 'popularity', 'populated', 'popup', 'portrait', 'porygon', 'positioned', 'positive', 'possibility', 'possible', 'possibly', 'post', 'posted', 'posting', 'posts', 'potato', 'potential', 'potentially', 'potion', 'potions', 'pour', 'poured', 'power', 'powered', 'powerful', 'powering', 'ppl', 'practice', 'prawice', 'pre', 'precise', 'predictions', 'predictive', 'preface', 'preferred', 'preformance', 'prematurely', 'premier', 'preoccupied', 'prepare', 'prepared', 'preparing', 'present', 'pressing', 'pressure', 'presumably', 'presuming', 'pretty', 'preview', 'previous', 'previously', 'primarily', 'primeape', 'prior', 'priorities', 'prioritise', 'private', 'privately', 'pro', 'probabally', 'probably', 'problem', 'problems', 'probopass', 'proccess', 'process', 'prodded', 'profile', 'profiting', 'program', 'progress', 'progressed', 'progression', 'project', 'prompt', 'prompted', 'proof', 'properly', 'pros', 'prospect', 'protect', 'protest', 'protesting', 'prototype', 'prototypes', 'proud', 'provide', 'provocation', 'ps', 'psuedos', 'psychology', 'psystrike', 'public', 'puffin', 'pull', 'pulled', 'pulls', 'punch', 'punishing', 'punishment', 'pupitar', 'purchased', 'purchases', 'purely', 'purified', 'purify', 'purposes', 'pursue', 'pushing', 'put', 'puts', 'putting', 'pve', 'pvp', 'pvpoke', 'pyroar', 'pzfwnou', 'qcgmrmj', 'qol', 'quagsire', 'quaint', 'quality', 'quantities', 'quantity', 'quarantine', 'quaz', 'quest', 'question', 'questionable', 'questions', 'quests', 'queue', 'queueing', 'quick', 'quickly', 'quit', 'quite', 'quitting', 'r3uxwnk', 'r9mjg0dpyko61', 'rabbit', 'racquel', 'radar', 'radars', 'rage', 'raichu', 'raid', 'raider', 'raiding', 'raidpass', 'raids', 'raikou', 'rain', 'raining', 'rains', 'rainstorms', 'rainy', 'ran', 'random', 'randomly', 'range', 'rank', 'ranking', 'ranks', 'rant', 'rants', 'rapid', 'rapidly', 'rare', 'rarely', 'rarer', 'raspberries', 'ratata', 'rate', 'rated', 'rates', 'rather', 'rating', 'ratings', 'ratio', 'rationale', 'rattata', 'rattica', 'ratting', 'raw', 'ray', 'rayq', 'rayquaza', 'rayquazas', 'rayquazza', 'rayqueza', 'raz', 'razer', 'razor', 'razz', 'razzberries', 'razzberrys', 'razzies', 'razzs', 'rc', 'rcjfth4', 're', 'reach', 'reached', 'reaching', 'read', 'readily', 'reading', 'reads', 'ready', 'readying', 'real', 'reality', 'realize', 'realized', 'realizes', 'really', 'reason', 'reasonable', 'reasons', 'reboots', 'rebounded', 'recall', 'reccomendations', 'receive', 'received', 'recent', 'recently', 'recieved', 'recognise', 'recognition', 'recognize', 'recollection', 'recommend', 'recommended', 'recommends', 'reconnect', 'reconnecting', 'reconsider', 'record', 'recover', 'recovering', 'recurring', 'red', 'redd', 'reddit', 'redo', 'reds', 'reducing', 'reference', 'referral', 'referring', 'refresh', 'refund', 'refunded', 'refuse', 'refused', 'regarding', 'regardless', 'regards', 'region', 'regional', 'regionals', 'regionalsubs', 'regions', 'regular', 'regularly', 'rehash', 'reinstalled', 'reinstalling', 'reinstalls', 'reject', 'rejected', 'relate', 'related', 'relatedsubreddits', 'relative', 'relatively', 'release', 'released', 'relevant', 'reliable', 'reload', 'reloading', 'rely', 'remaining', 'remains', 'remember', 'remembering', 'remembers', 'reminded', 'reminds', 'reminiscence', 'remote', 'remotely', 'remove', 'removed', 'rentals', 'reopen', 'reopened', 'repeat', 'repeatedly', 'repetitive', 'replace', 'replaced', 'replacing', 'replenish', 'reply', 'report', 'reporting', 'representatives', 'request', 'requesting', 'requests', 'required', 'requirement', 'requirements', 'requires', 'requiring', 'requisite', 'rescue', 'research', 'researches', 'reset', 'resets', 'resetted', 'resolved', 'resources', 'respawn', 'respectively', 'respond', 'responding', 'response', 'responses', 'rest', 'restart', 'restarted', 'restarting', 'restore', 'restrict_sr', 'restricts', 'result', 'results', 'resynced', 'retaken', 'retrieve', 'return', 'returned', 'returning', 'returns', 'reveal', 'revenue', 'review', 'revival', 'revive', 'revives', 'reward', 'rewarded', 'rewarding', 'rewards', 'rework', 'reyquaza', 'rhode', 'ribbon', 'rid', 'riddled', 'ride', 'ridiculous', 'ridiculously', 'rigged', 'right', 'rightfully', 'rights', 'ring', 'rinse', 'riolu', 'rip', 'ripped', 'ripple', 'risk', 'ritation', 'rival', 'rivals', 'rk9', 'rlly', 'rly', 'rn', 'rng', 'road', 'roar', 'robbed', 'robs', 'rock', 'rocket', 'rockets', 'roggenrola', 'roll', 'rolling', 'room', 'roomed', 'rose', 'roseandgraham', 'roselia', 'roseraid', 'rotation', 'rotational', 'rough', 'roughly', 'round', 'roundabout', 'rounds', 'route', 'row', 'rude', 'rule', 'rules', 'rumors', 'run', 'runescape', 'running', 'runs', 'rural', 'rushing', 'rv', 's10', 's20', 's21', 's6', 's8', 's9', 'sa', 'sableye', 'sacrifice', 'sad', 'sadly', 'safe', 'safest', 'said', 'sake', 'sakura', 'salamence', 'salt', 'salty', 'sam', 'same', 'samuellorman', 'sandile', 'sarcasm', 'sarcastic', 'sat', 'satisfaction', 'satisfied', 'satisfying', 'saturday', 'save', 'saved', 'saver', 'saw', 'sawk', 'sawsbuck', 'say', 'saying', 'says', 'sb', 'sc', 'scale', 'scan', 'scanners', 'scanning', 'scarce', 'scarcity', 'scenario', 'school', 'schooled', 'schools', 'scratch', 'scratching', 'screen', 'screens', 'screenshot', 'screenshots', 'screwed', 'scroll', 'scrolling', 'se', 'sealed', 'sealo', 'search', 'searched', 'searching', 'season', 'seasons', 'sec', 'second', 'secondly', 'seconds', 'secret', 'section', 'see', 'seed', 'seeing', 'seem', 'seemed', 'seems', 'seen', 'segment', 'seirra', 'select', 'selection', 'sell', 'semi', 'send', 'sending', 'sense', 'sent', 'sentiment', 'separate', 'separately', 'september', 'seria', 'series', 'serious', 'seriously', 'server', 'servers', 'serves', 'service', 'services', 'set', 'setback', 'setting', 'settings', 'seven', 'several', 'shadow', 'shadowed', 'shadowform', 'shadows', 'shakes', 'shaped', 'shard', 'share', 'shared', 'she', 'sheer', 'shield', 'shielded', 'shields', 'shifted', 'shifts', 'shines', 'shiney', 'shinies', 'shinx', 'shiny', 'shinys', 'shlundo', 'shock', 'shocked', 'shop', 'short', 'shortest', 'shot', 'shots', 'should', 'shoulder', 'shouldn', 'shoutout', 'show', 'showed', 'showing', 'shown', 'shows', 'shundo', 'shuts', 'shuttle', 'sick', 'side', 'sierra', 'sierras', 'sign', 'signed', 'significant', 'significantly', 'signing', 'signs', 'silhouette', 'silly', 'silph', 'silver', 'similar', 'simple', 'simply', 'since', 'single', 'singular', 'sinnoh', 'sir', 'sit', 'site', 'sites', 'sitting', 'situation', 'situations', 'six', 'size', 'skarmory', 'skarmorys', 'skip', 'skipped', 'skipping', 'slaking', 'slam', 'slap', 'slaughters', 'slew', 'slide', 'slider', 'sliders', 'slides', 'slightly', 'slighty', 'slot', 'slots', 'slow', 'slowbr00', 'slowking', 'slowly', 'slowpoke', 'sludge', 'slugma', 'slurve', 'slurves', 'smackdown', 'small', 'smaller', 'smeargle', 'smeargles', 'sms', 'snap', 'snappiness', 'snappy', 'snapshot', 'snapshots', 'snarl', 'sniped', 'snorlax', 'snorunt', 'snover', 'snow', 'snubbull', 'so', 'soft', 'softens', 'softlocked', 'software', 'sol', 'solace', 'solar', 'sole', 'solid', 'solo', 'soloing', 'solution', 'solve', 'solved', 'solving', 'some', 'somebody', 'somehow', 'someome', 'someone', 'something', 'sometimes', 'somewhat', 'somewhere', 'son', 'song', 'sony', 'soon', 'sooner', 'soooo', 'sorlax', 'sorry', 'sort', 'sorta', 'sorting', 'sought', 'sound', 'sounds', 'sources', 'south', 'space', 'spaces', 'spaghetti', 'spam', 'spamming', 'spammy', 'sparked', 'spawn', 'spawned', 'spawning', 'spawns', 'speak', 'speaking', 'speaks', 'special', 'specialized', 'specific', 'specifically', 'specificly', 'specifics', 'speculating', 'speculative', 'speechless', 'speed', 'spell', 'spen', 'spend', 'spending', 'spent', 'spheal', 'spikes', 'spin', 'spinner', 'spinning', 'spins', 'splash', 'split', 'spoink', 'spoof', 'spoofers', 'spot', 'spotlight', 'spots', 'spotting', 'spread', 'spreadsheet', 'sprites', 'spun', 'squad', 'squirtle', 'srr', 'srry', 'sta', 'stab', 'stadium', 'staff', 'stage', 'stall', 'stam', 'stamina', 'stamp', 'stamps', 'stand', 'stands', 'star', 'starbucks', 'stardust', 'starly', 'starmie', 'stars', 'start', 'started', 'starter', 'starters', 'starting', 'starts', 'starving', 'stat', 'state', 'statement', 'statements', 'states', 'stating', 'stats', 'statues', 'status', 'stay', 'stayed', 'staying', 'stays', 'steam', 'steel', 'steels', 'steep', 'step', 'steps', 'stew', 'stick', 'sticker', 'stickers', 'still', 'sting', 'stock', 'stoked', 'stone', 'stones', 'stonks', 'stop', 'stopped', 'stops', 'storage', 'store', 'stored', 'stories', 'straight', 'strange', 'strangers', 'strategic', 'strategizing', 'strategy', 'streak', 'streaks', 'strengths', 'stress', 'stressful', 'stretch', 'strictly', 'strong', 'stronger', 'strongest', 'strongly', 'strongs', 'struggle', 'struggling', 'stuck', 'student', 'study', 'stuff', 'stunfisk', 'stunkfish', 'stunky', 'stupid', 'stuttering', 'sub', 'subject', 'submit', 'subreddit', 'subreddits', 'subtract', 'succeed', 'success', 'successfully', 'succumbing', 'such', 'suck', 'sucks', 'suddenly', 'suffer', 'suggest', 'suggestion', 'suggestions', 'suit', 'suitable', 'summer', 'sunday', 'sunkern', 'sunny', 'super', 'superpower', 'superpowers', 'supplies', 'support', 'suppose', 'supposed', 'suprisingly', 'sure', 'surely', 'surgery', 'surging', 'surplus', 'surprise', 'surprised', 'surprising', 'surrounding', 'surskit', 'survey', 'survived', 'suspect', 'suspects', 'suspense', 'suspicious', 'suu6pez', 'sviny', 'swablu', 'swamped', 'swampert', 'swamperts', 'swap', 'swapping', 'swarming', 'sweating', 'sweep', 'sweeping', 'sweet', 'swinub', 'switch', 'switched', 'switches', 'switching', 'sword', 'swords', 'swore', 'sworn', 'sylveon', 'sync', 'system', 'tab', 'tackle', 'tact', 'tactics', 'tactless', 'tag', 'tagging', 'tail', 'taillow', 'take', 'taken', 'takes', 'taking', 'talk', 'talked', 'talking', 'talonflame', 'tank', 'tankier', 'tap', 'tapped', 'tapping', 'taps', 'tar', 'target', 'targets', 'task', 'tasks', 'tasmania', 'tbf', 'tbh', 'tcg', 'tcha', 'te', 'teach', 'teachers', 'team', 'teammates', 'teams', 'technical', 'teddiursa', 'tedious', 'tell', 'telling', 'tells', 'tempted', 'ten', 'tend', 'tepig', 'terms', 'terrible', 'terrifying', 'test', 'testing', 'texas', 'text', 'tf', 'than', 'thank', 'thankfully', 'thanks', 'thankyou', 'that', 'thats', 'the', 'theclick', 'their', 'them', 'theme', 'themed', 'themselves', 'then', 'ther', 'there', 'therefore', 'theres', 'therian', 'these', 'thesilphroad', 'theverge', 'they', 'theyre', 'thin', 'thing', 'thingie', 'things', 'thingy', 'think', 'thinking', 'thinks', 'third', 'this', 'thks', 'those', 'though', 'thought', 'thoughts', 'thows', 'thread', 'three', 'threshold', 'threw', 'thrilled', 'through', 'throughout', 'throw', 'throwing', 'thrown', 'throws', 'thru', 'thumbs', 'thunderous', 'thunderus', 'thundurus', 'thursday', 'thus', 'tia', 'ticked', 'ticket', 'ticket_form_id', 'tie', 'tier', 'ties', 'till', 'tilted', 'time', 'timecodes', 'timed', 'timeline', 'timely', 'timer', 'times', 'timing', 'tiny', 'tip', 'tips', 'tired', 'title', 'tl', 'tm', 'tmgleozz', 'tms', 'to', 'today', 'togekiss', 'together', 'toggle', 'tokens', 'told', 'tomorrow', 'ton', 'tonight', 'tons', 'too', 'took', 'top', 'topic', 'topical', 'torchick', 'torn', 'tornado', 'tornados', 'tornadus', 'torterra', 'toshi', 'total', 'totodile', 'touch', 'tough', 'tougher', 'toughest', 'tour', 'tournaments', 'tourny', 'towards', 'town', 'towns', 'toxic', 'tpc', 'trace', 'track', 'tracking', 'tracks', 'traction', 'trade', 'traded', 'trades', 'trading', 'traditional', 'train', 'trainer', 'trainers', 'trajectory', 'tram', 'transfer', 'transferred', 'transferring', 'transfers', 'transformed', 'translates', 'transparency', 'transport', 'trapped', 'trash', 'traveled', 'treadmill', 'treasure', 'tri', 'tribute', 'tricks', 'tried', 'tries', 'trigger', 'triggers', 'trio', 'trip', 'troll', 'trolls', 'tropius', 'trouble', 'troubleshooting', 'troubling', 'troupe', 'trows', 'trubbish', 'trucks', 'true', 'truly', 'truthfully', 'try', 'trying', 'tryna', 'tsr', 'tuesday', 'tune', 'turn', 'turned', 'turns', 'tutorials', 'twice', 'twister', 'twitter', 'two', 'tx', 'ty', 'tying', 'tynamo', 'type', 'types', 'typhlosion', 'typical', 'typically', 'tyranitar', 'tyrannitar', 'uk', 'ukpolitics', 'ul', 'ultra', 'ultracliff', 'ultras', 'umbreon', 'un', 'unable', 'unanticipated', 'unattainable', 'uncivilty', 'uncommon', 'under', 'underneath', 'understand', 'understandable', 'understanding', 'understood', 'underwhelming', 'unfair', 'unfortunately', 'unfounded', 'ungodly', 'ungrateful', 'unicorn', 'uniform', 'unimpressed', 'uninstall', 'uninstalled', 'uninstaller', 'uninstalling', 'uninterested', 'uninteresting', 'unique', 'universal', 'unless', 'unlikely', 'unlimited', 'unlinked', 'unlock', 'unlocked', 'unlocks', 'unluckiest', 'unlucky', 'unnoticed', 'unova', 'unpurified', 'unreleased', 'unspoken', 'unsuccessful', 'unsupported', 'unsure', 'unsustainable', 'unthinkable', 'until', 'unusable', 'unwanted', 'up', 'upcoming', 'update', 'updated', 'updates', 'updating', 'upgrade', 'upgraded', 'upgrades', 'upload', 'upon', 'upper', 'upset', 'upside', 'upvote', 'ur', 'us', 'usable', 'usage', 'use', 'used', 'useful', 'useless', 'user', 'username', 'users', 'uses', 'using', 'usp', 'usual', 'usually', 'utm_medium', 'utm_source', 'uu3vyzo', 'ux', 'v36v5el', 'vacation', 'vaccine', 'vague', 'validity', 'valor', 'value', 'vaporeon', 'variant', 'variation', 'various', 'varying', 've', 'velocity', 'vensaur', 'venting', 'venusaur', 'verge', 'version', 'versions', 'vertical', 'very', 'veteran', 'via', 'viable', 'vibrate', 'vicinity', 'victini', 'victory', 'victreebel', 'video', 'videos', 'vietnam', 'view', 'vigoroth', 'vileplume', 'vine', 'virtually', 'visible', 'visit', 'voltorb', 'voltorbs', 'voted', 'vryv4lm', 'vs', 'vullabys', 'w0ymrbx', 'wage', 'wait', 'waited', 'waiting', 'walk', 'walked', 'walking', 'walkint', 'walkling', 'walks', 'walmart', 'wan', 'wandering', 'wanna', 'want', 'wanted', 'wanting', 'wants', 'war', 'warmer', 'warning', 'warnings', 'was', 'washed', 'washington', 'wasn', 'waste', 'wasted', 'wastes', 'wasting', 'watch', 'watched', 'watching', 'water', 'waterfall', 'way', 'ways', 'wb', 'we', 'weak', 'weaknesses', 'weather', 'weatherball', 'web', 'webp', 'website', 'websites', 'weedles', 'week', 'weekend', 'weekends', 'weekly', 'weeks', 'weepinbell', 'weigh', 'weird', 'welcome', 'well', 'went', 'were', 'weren', 'west', 'what', 'whatever', 'whats', 'whatsoever', 'when', 'whenever', 'where', 'whereas', 'wherever', 'whet', 'whether', 'which', 'while', 'whilst', 'whim', 'whining', 'whip', 'white', 'who', 'whole', 'whose', 'why', 'widely', 'width', 'wife', 'wifi', 'wiggle', 'wiki', 'wiki_catching_pok', 'wiki_controls', 'wiki_easter_eggs', 'wiki_gyms', 'wiki_items', 'wiki_main_map', 'wiki_pok', 'wiki_raids', 'wiki_settings_menu', 'wiki_shop', 'wiki_team_selection', 'wiki_user_menu', 'wil', 'wild', 'will', 'william', 'willing', 'win', 'wind', 'window', 'windy', 'wing', 'winging', 'winning', 'wins', 'wiped', 'wise', 'wish', 'wished', 'wishing', 'with', 'within', 'without', 'wki0rir', 'woke', 'won', 'wonder', 'wondered', 'wonderful', 'wondering', 'wont', 'woods', 'wooper', 'word', 'words', 'work', 'workarounds', 'worked', 'workers', 'working', 'works', 'world', 'worldwide', 'worried', 'worries', 'worse', 'worship', 'worst', 'worth', 'worthless', 'worthwhile', 'worthwile', 'would', 'wouldn', 'wound', 'wristband', 'wristbands', 'write', 'writing', 'wrong', 'wrote', 'wtf', 'www', 'x2', 'x200b', 'x3', 'x4', 'xatdfvfsqbpwrcpaa', 'xd', 'xl', 'xls', 'xp', 'xperia', 'xs', 'xsbp8pm', 'ya', 'yapw1a3', 'yeah', 'year', 'years', 'yes', 'yesterday', 'yet', 'yo', 'york', 'you', 'your', 'yours', 'youth', 'youtu', 'youtube', 'yrs', 'yt', 'z91pq78jnun61', 'zapdos', 'zekrom', 'zen', 'zero', 'zf6uyvx', 'zgh4g1sgnpo61', 'zjobokr', 'zombieseattacos', 'zqeqenn', 'zubat', 'zubats', 'zvyfe5e', 'ಠ_ಠ', 'ノಠ益ಠ', 'ノ彡']\n"
     ]
    }
   ],
   "source": [
    "print(vectorizer.get_feature_names())"
   ]
  },
  {
   "cell_type": "code",
   "execution_count": 71,
   "metadata": {},
   "outputs": [
    {
     "output_type": "display_data",
     "data": {
      "text/plain": "<Figure size 720x576 with 1 Axes>",
      "image/svg+xml": "<?xml version=\"1.0\" encoding=\"utf-8\" standalone=\"no\"?>\n<!DOCTYPE svg PUBLIC \"-//W3C//DTD SVG 1.1//EN\"\n  \"http://www.w3.org/Graphics/SVG/1.1/DTD/svg11.dtd\">\n<!-- Created with matplotlib (https://matplotlib.org/) -->\n<svg height=\"462.458125pt\" version=\"1.1\" viewBox=\"0 0 670.725 462.458125\" width=\"670.725pt\" xmlns=\"http://www.w3.org/2000/svg\" xmlns:xlink=\"http://www.w3.org/1999/xlink\">\n <metadata>\n  <rdf:RDF xmlns:cc=\"http://creativecommons.org/ns#\" xmlns:dc=\"http://purl.org/dc/elements/1.1/\" xmlns:rdf=\"http://www.w3.org/1999/02/22-rdf-syntax-ns#\">\n   <cc:Work>\n    <dc:type rdf:resource=\"http://purl.org/dc/dcmitype/StillImage\"/>\n    <dc:date>2021-04-01T10:44:50.860495</dc:date>\n    <dc:format>image/svg+xml</dc:format>\n    <dc:creator>\n     <cc:Agent>\n      <dc:title>Matplotlib v3.3.4, https://matplotlib.org/</dc:title>\n     </cc:Agent>\n    </dc:creator>\n   </cc:Work>\n  </rdf:RDF>\n </metadata>\n <defs>\n  <style type=\"text/css\">*{stroke-linecap:butt;stroke-linejoin:round;}</style>\n </defs>\n <g id=\"figure_1\">\n  <g id=\"patch_1\">\n   <path d=\"M 0 462.458125 \nL 670.725 462.458125 \nL 670.725 0 \nL 0 0 \nz\n\" style=\"fill:none;\"/>\n  </g>\n  <g id=\"axes_1\">\n   <g id=\"patch_2\">\n    <path d=\"M 37.125 442.08 \nL 663.525 442.08 \nL 663.525 7.2 \nL 37.125 7.2 \nz\n\" style=\"fill:#f0f0f0;\"/>\n   </g>\n   <g id=\"matplotlib.axis_1\">\n    <g id=\"xtick_1\">\n     <g id=\"line2d_1\">\n      <path clip-path=\"url(#p657898d42e)\" d=\"M 37.125 442.08 \nL 37.125 7.2 \n\" style=\"fill:none;stroke:#cbcbcb;\"/>\n     </g>\n     <g id=\"line2d_2\"/>\n     <g id=\"text_1\">\n      <!-- 0.000 -->\n      <g transform=\"translate(22.810938 453.178437)scale(0.1 -0.1)\">\n       <defs>\n        <path d=\"M 31.78125 66.40625 \nQ 24.171875 66.40625 20.328125 58.90625 \nQ 16.5 51.421875 16.5 36.375 \nQ 16.5 21.390625 20.328125 13.890625 \nQ 24.171875 6.390625 31.78125 6.390625 \nQ 39.453125 6.390625 43.28125 13.890625 \nQ 47.125 21.390625 47.125 36.375 \nQ 47.125 51.421875 43.28125 58.90625 \nQ 39.453125 66.40625 31.78125 66.40625 \nz\nM 31.78125 74.21875 \nQ 44.046875 74.21875 50.515625 64.515625 \nQ 56.984375 54.828125 56.984375 36.375 \nQ 56.984375 17.96875 50.515625 8.265625 \nQ 44.046875 -1.421875 31.78125 -1.421875 \nQ 19.53125 -1.421875 13.0625 8.265625 \nQ 6.59375 17.96875 6.59375 36.375 \nQ 6.59375 54.828125 13.0625 64.515625 \nQ 19.53125 74.21875 31.78125 74.21875 \nz\n\" id=\"DejaVuSans-48\"/>\n        <path d=\"M 10.6875 12.40625 \nL 21 12.40625 \nL 21 0 \nL 10.6875 0 \nz\n\" id=\"DejaVuSans-46\"/>\n       </defs>\n       <use xlink:href=\"#DejaVuSans-48\"/>\n       <use x=\"63.623047\" xlink:href=\"#DejaVuSans-46\"/>\n       <use x=\"95.410156\" xlink:href=\"#DejaVuSans-48\"/>\n       <use x=\"159.033203\" xlink:href=\"#DejaVuSans-48\"/>\n       <use x=\"222.65625\" xlink:href=\"#DejaVuSans-48\"/>\n      </g>\n     </g>\n    </g>\n    <g id=\"xtick_2\">\n     <g id=\"line2d_3\">\n      <path clip-path=\"url(#p657898d42e)\" d=\"M 118.447967 442.08 \nL 118.447967 7.2 \n\" style=\"fill:none;stroke:#cbcbcb;\"/>\n     </g>\n     <g id=\"line2d_4\"/>\n     <g id=\"text_2\">\n      <!-- 0.002 -->\n      <g transform=\"translate(104.133905 453.178437)scale(0.1 -0.1)\">\n       <defs>\n        <path d=\"M 19.1875 8.296875 \nL 53.609375 8.296875 \nL 53.609375 0 \nL 7.328125 0 \nL 7.328125 8.296875 \nQ 12.9375 14.109375 22.625 23.890625 \nQ 32.328125 33.6875 34.8125 36.53125 \nQ 39.546875 41.84375 41.421875 45.53125 \nQ 43.3125 49.21875 43.3125 52.78125 \nQ 43.3125 58.59375 39.234375 62.25 \nQ 35.15625 65.921875 28.609375 65.921875 \nQ 23.96875 65.921875 18.8125 64.3125 \nQ 13.671875 62.703125 7.8125 59.421875 \nL 7.8125 69.390625 \nQ 13.765625 71.78125 18.9375 73 \nQ 24.125 74.21875 28.421875 74.21875 \nQ 39.75 74.21875 46.484375 68.546875 \nQ 53.21875 62.890625 53.21875 53.421875 \nQ 53.21875 48.921875 51.53125 44.890625 \nQ 49.859375 40.875 45.40625 35.40625 \nQ 44.1875 33.984375 37.640625 27.21875 \nQ 31.109375 20.453125 19.1875 8.296875 \nz\n\" id=\"DejaVuSans-50\"/>\n       </defs>\n       <use xlink:href=\"#DejaVuSans-48\"/>\n       <use x=\"63.623047\" xlink:href=\"#DejaVuSans-46\"/>\n       <use x=\"95.410156\" xlink:href=\"#DejaVuSans-48\"/>\n       <use x=\"159.033203\" xlink:href=\"#DejaVuSans-48\"/>\n       <use x=\"222.65625\" xlink:href=\"#DejaVuSans-50\"/>\n      </g>\n     </g>\n    </g>\n    <g id=\"xtick_3\">\n     <g id=\"line2d_5\">\n      <path clip-path=\"url(#p657898d42e)\" d=\"M 199.770934 442.08 \nL 199.770934 7.2 \n\" style=\"fill:none;stroke:#cbcbcb;\"/>\n     </g>\n     <g id=\"line2d_6\"/>\n     <g id=\"text_3\">\n      <!-- 0.004 -->\n      <g transform=\"translate(185.456872 453.178437)scale(0.1 -0.1)\">\n       <defs>\n        <path d=\"M 37.796875 64.3125 \nL 12.890625 25.390625 \nL 37.796875 25.390625 \nz\nM 35.203125 72.90625 \nL 47.609375 72.90625 \nL 47.609375 25.390625 \nL 58.015625 25.390625 \nL 58.015625 17.1875 \nL 47.609375 17.1875 \nL 47.609375 0 \nL 37.796875 0 \nL 37.796875 17.1875 \nL 4.890625 17.1875 \nL 4.890625 26.703125 \nz\n\" id=\"DejaVuSans-52\"/>\n       </defs>\n       <use xlink:href=\"#DejaVuSans-48\"/>\n       <use x=\"63.623047\" xlink:href=\"#DejaVuSans-46\"/>\n       <use x=\"95.410156\" xlink:href=\"#DejaVuSans-48\"/>\n       <use x=\"159.033203\" xlink:href=\"#DejaVuSans-48\"/>\n       <use x=\"222.65625\" xlink:href=\"#DejaVuSans-52\"/>\n      </g>\n     </g>\n    </g>\n    <g id=\"xtick_4\">\n     <g id=\"line2d_7\">\n      <path clip-path=\"url(#p657898d42e)\" d=\"M 281.093901 442.08 \nL 281.093901 7.2 \n\" style=\"fill:none;stroke:#cbcbcb;\"/>\n     </g>\n     <g id=\"line2d_8\"/>\n     <g id=\"text_4\">\n      <!-- 0.006 -->\n      <g transform=\"translate(266.779839 453.178437)scale(0.1 -0.1)\">\n       <defs>\n        <path d=\"M 33.015625 40.375 \nQ 26.375 40.375 22.484375 35.828125 \nQ 18.609375 31.296875 18.609375 23.390625 \nQ 18.609375 15.53125 22.484375 10.953125 \nQ 26.375 6.390625 33.015625 6.390625 \nQ 39.65625 6.390625 43.53125 10.953125 \nQ 47.40625 15.53125 47.40625 23.390625 \nQ 47.40625 31.296875 43.53125 35.828125 \nQ 39.65625 40.375 33.015625 40.375 \nz\nM 52.59375 71.296875 \nL 52.59375 62.3125 \nQ 48.875 64.0625 45.09375 64.984375 \nQ 41.3125 65.921875 37.59375 65.921875 \nQ 27.828125 65.921875 22.671875 59.328125 \nQ 17.53125 52.734375 16.796875 39.40625 \nQ 19.671875 43.65625 24.015625 45.921875 \nQ 28.375 48.1875 33.59375 48.1875 \nQ 44.578125 48.1875 50.953125 41.515625 \nQ 57.328125 34.859375 57.328125 23.390625 \nQ 57.328125 12.15625 50.6875 5.359375 \nQ 44.046875 -1.421875 33.015625 -1.421875 \nQ 20.359375 -1.421875 13.671875 8.265625 \nQ 6.984375 17.96875 6.984375 36.375 \nQ 6.984375 53.65625 15.1875 63.9375 \nQ 23.390625 74.21875 37.203125 74.21875 \nQ 40.921875 74.21875 44.703125 73.484375 \nQ 48.484375 72.75 52.59375 71.296875 \nz\n\" id=\"DejaVuSans-54\"/>\n       </defs>\n       <use xlink:href=\"#DejaVuSans-48\"/>\n       <use x=\"63.623047\" xlink:href=\"#DejaVuSans-46\"/>\n       <use x=\"95.410156\" xlink:href=\"#DejaVuSans-48\"/>\n       <use x=\"159.033203\" xlink:href=\"#DejaVuSans-48\"/>\n       <use x=\"222.65625\" xlink:href=\"#DejaVuSans-54\"/>\n      </g>\n     </g>\n    </g>\n    <g id=\"xtick_5\">\n     <g id=\"line2d_9\">\n      <path clip-path=\"url(#p657898d42e)\" d=\"M 362.416868 442.08 \nL 362.416868 7.2 \n\" style=\"fill:none;stroke:#cbcbcb;\"/>\n     </g>\n     <g id=\"line2d_10\"/>\n     <g id=\"text_5\">\n      <!-- 0.008 -->\n      <g transform=\"translate(348.102806 453.178437)scale(0.1 -0.1)\">\n       <defs>\n        <path d=\"M 31.78125 34.625 \nQ 24.75 34.625 20.71875 30.859375 \nQ 16.703125 27.09375 16.703125 20.515625 \nQ 16.703125 13.921875 20.71875 10.15625 \nQ 24.75 6.390625 31.78125 6.390625 \nQ 38.8125 6.390625 42.859375 10.171875 \nQ 46.921875 13.96875 46.921875 20.515625 \nQ 46.921875 27.09375 42.890625 30.859375 \nQ 38.875 34.625 31.78125 34.625 \nz\nM 21.921875 38.8125 \nQ 15.578125 40.375 12.03125 44.71875 \nQ 8.5 49.078125 8.5 55.328125 \nQ 8.5 64.0625 14.71875 69.140625 \nQ 20.953125 74.21875 31.78125 74.21875 \nQ 42.671875 74.21875 48.875 69.140625 \nQ 55.078125 64.0625 55.078125 55.328125 \nQ 55.078125 49.078125 51.53125 44.71875 \nQ 48 40.375 41.703125 38.8125 \nQ 48.828125 37.15625 52.796875 32.3125 \nQ 56.78125 27.484375 56.78125 20.515625 \nQ 56.78125 9.90625 50.3125 4.234375 \nQ 43.84375 -1.421875 31.78125 -1.421875 \nQ 19.734375 -1.421875 13.25 4.234375 \nQ 6.78125 9.90625 6.78125 20.515625 \nQ 6.78125 27.484375 10.78125 32.3125 \nQ 14.796875 37.15625 21.921875 38.8125 \nz\nM 18.3125 54.390625 \nQ 18.3125 48.734375 21.84375 45.5625 \nQ 25.390625 42.390625 31.78125 42.390625 \nQ 38.140625 42.390625 41.71875 45.5625 \nQ 45.3125 48.734375 45.3125 54.390625 \nQ 45.3125 60.0625 41.71875 63.234375 \nQ 38.140625 66.40625 31.78125 66.40625 \nQ 25.390625 66.40625 21.84375 63.234375 \nQ 18.3125 60.0625 18.3125 54.390625 \nz\n\" id=\"DejaVuSans-56\"/>\n       </defs>\n       <use xlink:href=\"#DejaVuSans-48\"/>\n       <use x=\"63.623047\" xlink:href=\"#DejaVuSans-46\"/>\n       <use x=\"95.410156\" xlink:href=\"#DejaVuSans-48\"/>\n       <use x=\"159.033203\" xlink:href=\"#DejaVuSans-48\"/>\n       <use x=\"222.65625\" xlink:href=\"#DejaVuSans-56\"/>\n      </g>\n     </g>\n    </g>\n    <g id=\"xtick_6\">\n     <g id=\"line2d_11\">\n      <path clip-path=\"url(#p657898d42e)\" d=\"M 443.739835 442.08 \nL 443.739835 7.2 \n\" style=\"fill:none;stroke:#cbcbcb;\"/>\n     </g>\n     <g id=\"line2d_12\"/>\n     <g id=\"text_6\">\n      <!-- 0.010 -->\n      <g transform=\"translate(429.425773 453.178437)scale(0.1 -0.1)\">\n       <defs>\n        <path d=\"M 12.40625 8.296875 \nL 28.515625 8.296875 \nL 28.515625 63.921875 \nL 10.984375 60.40625 \nL 10.984375 69.390625 \nL 28.421875 72.90625 \nL 38.28125 72.90625 \nL 38.28125 8.296875 \nL 54.390625 8.296875 \nL 54.390625 0 \nL 12.40625 0 \nz\n\" id=\"DejaVuSans-49\"/>\n       </defs>\n       <use xlink:href=\"#DejaVuSans-48\"/>\n       <use x=\"63.623047\" xlink:href=\"#DejaVuSans-46\"/>\n       <use x=\"95.410156\" xlink:href=\"#DejaVuSans-48\"/>\n       <use x=\"159.033203\" xlink:href=\"#DejaVuSans-49\"/>\n       <use x=\"222.65625\" xlink:href=\"#DejaVuSans-48\"/>\n      </g>\n     </g>\n    </g>\n    <g id=\"xtick_7\">\n     <g id=\"line2d_13\">\n      <path clip-path=\"url(#p657898d42e)\" d=\"M 525.062802 442.08 \nL 525.062802 7.2 \n\" style=\"fill:none;stroke:#cbcbcb;\"/>\n     </g>\n     <g id=\"line2d_14\"/>\n     <g id=\"text_7\">\n      <!-- 0.012 -->\n      <g transform=\"translate(510.74874 453.178437)scale(0.1 -0.1)\">\n       <use xlink:href=\"#DejaVuSans-48\"/>\n       <use x=\"63.623047\" xlink:href=\"#DejaVuSans-46\"/>\n       <use x=\"95.410156\" xlink:href=\"#DejaVuSans-48\"/>\n       <use x=\"159.033203\" xlink:href=\"#DejaVuSans-49\"/>\n       <use x=\"222.65625\" xlink:href=\"#DejaVuSans-50\"/>\n      </g>\n     </g>\n    </g>\n    <g id=\"xtick_8\">\n     <g id=\"line2d_15\">\n      <path clip-path=\"url(#p657898d42e)\" d=\"M 606.385769 442.08 \nL 606.385769 7.2 \n\" style=\"fill:none;stroke:#cbcbcb;\"/>\n     </g>\n     <g id=\"line2d_16\"/>\n     <g id=\"text_8\">\n      <!-- 0.014 -->\n      <g transform=\"translate(592.071707 453.178437)scale(0.1 -0.1)\">\n       <use xlink:href=\"#DejaVuSans-48\"/>\n       <use x=\"63.623047\" xlink:href=\"#DejaVuSans-46\"/>\n       <use x=\"95.410156\" xlink:href=\"#DejaVuSans-48\"/>\n       <use x=\"159.033203\" xlink:href=\"#DejaVuSans-49\"/>\n       <use x=\"222.65625\" xlink:href=\"#DejaVuSans-52\"/>\n      </g>\n     </g>\n    </g>\n   </g>\n   <g id=\"matplotlib.axis_2\">\n    <g id=\"ytick_1\">\n     <g id=\"line2d_17\">\n      <path clip-path=\"url(#p657898d42e)\" d=\"M 37.125 420.336 \nL 663.525 420.336 \n\" style=\"fill:none;stroke:#cbcbcb;\"/>\n     </g>\n     <g id=\"line2d_18\"/>\n     <g id=\"text_9\">\n      <!-- it -->\n      <g transform=\"translate(26.926563 424.135219)scale(0.1 -0.1)\">\n       <defs>\n        <path d=\"M 9.421875 54.6875 \nL 18.40625 54.6875 \nL 18.40625 0 \nL 9.421875 0 \nz\nM 9.421875 75.984375 \nL 18.40625 75.984375 \nL 18.40625 64.59375 \nL 9.421875 64.59375 \nz\n\" id=\"DejaVuSans-105\"/>\n        <path d=\"M 18.3125 70.21875 \nL 18.3125 54.6875 \nL 36.8125 54.6875 \nL 36.8125 47.703125 \nL 18.3125 47.703125 \nL 18.3125 18.015625 \nQ 18.3125 11.328125 20.140625 9.421875 \nQ 21.96875 7.515625 27.59375 7.515625 \nL 36.8125 7.515625 \nL 36.8125 0 \nL 27.59375 0 \nQ 17.1875 0 13.234375 3.875 \nQ 9.28125 7.765625 9.28125 18.015625 \nL 9.28125 47.703125 \nL 2.6875 47.703125 \nL 2.6875 54.6875 \nL 9.28125 54.6875 \nL 9.28125 70.21875 \nz\n\" id=\"DejaVuSans-116\"/>\n       </defs>\n       <use xlink:href=\"#DejaVuSans-105\"/>\n       <use x=\"27.783203\" xlink:href=\"#DejaVuSans-116\"/>\n      </g>\n     </g>\n    </g>\n    <g id=\"ytick_2\">\n     <g id=\"line2d_19\">\n      <path clip-path=\"url(#p657898d42e)\" d=\"M 37.125 376.848 \nL 663.525 376.848 \n\" style=\"fill:none;stroke:#cbcbcb;\"/>\n     </g>\n     <g id=\"line2d_20\"/>\n     <g id=\"text_10\">\n      <!-- know -->\n      <g transform=\"translate(7.2 380.647219)scale(0.1 -0.1)\">\n       <defs>\n        <path d=\"M 9.078125 75.984375 \nL 18.109375 75.984375 \nL 18.109375 31.109375 \nL 44.921875 54.6875 \nL 56.390625 54.6875 \nL 27.390625 29.109375 \nL 57.625 0 \nL 45.90625 0 \nL 18.109375 26.703125 \nL 18.109375 0 \nL 9.078125 0 \nz\n\" id=\"DejaVuSans-107\"/>\n        <path d=\"M 54.890625 33.015625 \nL 54.890625 0 \nL 45.90625 0 \nL 45.90625 32.71875 \nQ 45.90625 40.484375 42.875 44.328125 \nQ 39.84375 48.1875 33.796875 48.1875 \nQ 26.515625 48.1875 22.3125 43.546875 \nQ 18.109375 38.921875 18.109375 30.90625 \nL 18.109375 0 \nL 9.078125 0 \nL 9.078125 54.6875 \nL 18.109375 54.6875 \nL 18.109375 46.1875 \nQ 21.34375 51.125 25.703125 53.5625 \nQ 30.078125 56 35.796875 56 \nQ 45.21875 56 50.046875 50.171875 \nQ 54.890625 44.34375 54.890625 33.015625 \nz\n\" id=\"DejaVuSans-110\"/>\n        <path d=\"M 30.609375 48.390625 \nQ 23.390625 48.390625 19.1875 42.75 \nQ 14.984375 37.109375 14.984375 27.296875 \nQ 14.984375 17.484375 19.15625 11.84375 \nQ 23.34375 6.203125 30.609375 6.203125 \nQ 37.796875 6.203125 41.984375 11.859375 \nQ 46.1875 17.53125 46.1875 27.296875 \nQ 46.1875 37.015625 41.984375 42.703125 \nQ 37.796875 48.390625 30.609375 48.390625 \nz\nM 30.609375 56 \nQ 42.328125 56 49.015625 48.375 \nQ 55.71875 40.765625 55.71875 27.296875 \nQ 55.71875 13.875 49.015625 6.21875 \nQ 42.328125 -1.421875 30.609375 -1.421875 \nQ 18.84375 -1.421875 12.171875 6.21875 \nQ 5.515625 13.875 5.515625 27.296875 \nQ 5.515625 40.765625 12.171875 48.375 \nQ 18.84375 56 30.609375 56 \nz\n\" id=\"DejaVuSans-111\"/>\n        <path d=\"M 4.203125 54.6875 \nL 13.1875 54.6875 \nL 24.421875 12.015625 \nL 35.59375 54.6875 \nL 46.1875 54.6875 \nL 57.421875 12.015625 \nL 68.609375 54.6875 \nL 77.59375 54.6875 \nL 63.28125 0 \nL 52.6875 0 \nL 40.921875 44.828125 \nL 29.109375 0 \nL 18.5 0 \nz\n\" id=\"DejaVuSans-119\"/>\n       </defs>\n       <use xlink:href=\"#DejaVuSans-107\"/>\n       <use x=\"57.910156\" xlink:href=\"#DejaVuSans-110\"/>\n       <use x=\"121.289062\" xlink:href=\"#DejaVuSans-111\"/>\n       <use x=\"182.470703\" xlink:href=\"#DejaVuSans-119\"/>\n      </g>\n     </g>\n    </g>\n    <g id=\"ytick_3\">\n     <g id=\"line2d_21\">\n      <path clip-path=\"url(#p657898d42e)\" d=\"M 37.125 333.36 \nL 663.525 333.36 \n\" style=\"fill:none;stroke:#cbcbcb;\"/>\n     </g>\n     <g id=\"line2d_22\"/>\n     <g id=\"text_11\">\n      <!-- that -->\n      <g transform=\"translate(13.31875 337.159219)scale(0.1 -0.1)\">\n       <defs>\n        <path d=\"M 54.890625 33.015625 \nL 54.890625 0 \nL 45.90625 0 \nL 45.90625 32.71875 \nQ 45.90625 40.484375 42.875 44.328125 \nQ 39.84375 48.1875 33.796875 48.1875 \nQ 26.515625 48.1875 22.3125 43.546875 \nQ 18.109375 38.921875 18.109375 30.90625 \nL 18.109375 0 \nL 9.078125 0 \nL 9.078125 75.984375 \nL 18.109375 75.984375 \nL 18.109375 46.1875 \nQ 21.34375 51.125 25.703125 53.5625 \nQ 30.078125 56 35.796875 56 \nQ 45.21875 56 50.046875 50.171875 \nQ 54.890625 44.34375 54.890625 33.015625 \nz\n\" id=\"DejaVuSans-104\"/>\n        <path d=\"M 34.28125 27.484375 \nQ 23.390625 27.484375 19.1875 25 \nQ 14.984375 22.515625 14.984375 16.5 \nQ 14.984375 11.71875 18.140625 8.90625 \nQ 21.296875 6.109375 26.703125 6.109375 \nQ 34.1875 6.109375 38.703125 11.40625 \nQ 43.21875 16.703125 43.21875 25.484375 \nL 43.21875 27.484375 \nz\nM 52.203125 31.203125 \nL 52.203125 0 \nL 43.21875 0 \nL 43.21875 8.296875 \nQ 40.140625 3.328125 35.546875 0.953125 \nQ 30.953125 -1.421875 24.3125 -1.421875 \nQ 15.921875 -1.421875 10.953125 3.296875 \nQ 6 8.015625 6 15.921875 \nQ 6 25.140625 12.171875 29.828125 \nQ 18.359375 34.515625 30.609375 34.515625 \nL 43.21875 34.515625 \nL 43.21875 35.40625 \nQ 43.21875 41.609375 39.140625 45 \nQ 35.0625 48.390625 27.6875 48.390625 \nQ 23 48.390625 18.546875 47.265625 \nQ 14.109375 46.140625 10.015625 43.890625 \nL 10.015625 52.203125 \nQ 14.9375 54.109375 19.578125 55.046875 \nQ 24.21875 56 28.609375 56 \nQ 40.484375 56 46.34375 49.84375 \nQ 52.203125 43.703125 52.203125 31.203125 \nz\n\" id=\"DejaVuSans-97\"/>\n       </defs>\n       <use xlink:href=\"#DejaVuSans-116\"/>\n       <use x=\"39.208984\" xlink:href=\"#DejaVuSans-104\"/>\n       <use x=\"102.587891\" xlink:href=\"#DejaVuSans-97\"/>\n       <use x=\"163.867188\" xlink:href=\"#DejaVuSans-116\"/>\n      </g>\n     </g>\n    </g>\n    <g id=\"ytick_4\">\n     <g id=\"line2d_23\">\n      <path clip-path=\"url(#p657898d42e)\" d=\"M 37.125 289.872 \nL 663.525 289.872 \n\" style=\"fill:none;stroke:#cbcbcb;\"/>\n     </g>\n     <g id=\"line2d_24\"/>\n     <g id=\"text_12\">\n      <!-- is -->\n      <g transform=\"translate(25.6375 293.671219)scale(0.1 -0.1)\">\n       <defs>\n        <path d=\"M 44.28125 53.078125 \nL 44.28125 44.578125 \nQ 40.484375 46.53125 36.375 47.5 \nQ 32.28125 48.484375 27.875 48.484375 \nQ 21.1875 48.484375 17.84375 46.4375 \nQ 14.5 44.390625 14.5 40.28125 \nQ 14.5 37.15625 16.890625 35.375 \nQ 19.28125 33.59375 26.515625 31.984375 \nL 29.59375 31.296875 \nQ 39.15625 29.25 43.1875 25.515625 \nQ 47.21875 21.78125 47.21875 15.09375 \nQ 47.21875 7.46875 41.1875 3.015625 \nQ 35.15625 -1.421875 24.609375 -1.421875 \nQ 20.21875 -1.421875 15.453125 -0.5625 \nQ 10.6875 0.296875 5.421875 2 \nL 5.421875 11.28125 \nQ 10.40625 8.6875 15.234375 7.390625 \nQ 20.0625 6.109375 24.8125 6.109375 \nQ 31.15625 6.109375 34.5625 8.28125 \nQ 37.984375 10.453125 37.984375 14.40625 \nQ 37.984375 18.0625 35.515625 20.015625 \nQ 33.0625 21.96875 24.703125 23.78125 \nL 21.578125 24.515625 \nQ 13.234375 26.265625 9.515625 29.90625 \nQ 5.8125 33.546875 5.8125 39.890625 \nQ 5.8125 47.609375 11.28125 51.796875 \nQ 16.75 56 26.8125 56 \nQ 31.78125 56 36.171875 55.265625 \nQ 40.578125 54.546875 44.28125 53.078125 \nz\n\" id=\"DejaVuSans-115\"/>\n       </defs>\n       <use xlink:href=\"#DejaVuSans-105\"/>\n       <use x=\"27.783203\" xlink:href=\"#DejaVuSans-115\"/>\n      </g>\n     </g>\n    </g>\n    <g id=\"ytick_5\">\n     <g id=\"line2d_25\">\n      <path clip-path=\"url(#p657898d42e)\" d=\"M 37.125 246.384 \nL 663.525 246.384 \n\" style=\"fill:none;stroke:#cbcbcb;\"/>\n     </g>\n     <g id=\"line2d_26\"/>\n     <g id=\"text_13\">\n      <!-- have -->\n      <g transform=\"translate(9.0875 250.183219)scale(0.1 -0.1)\">\n       <defs>\n        <path d=\"M 2.984375 54.6875 \nL 12.5 54.6875 \nL 29.59375 8.796875 \nL 46.6875 54.6875 \nL 56.203125 54.6875 \nL 35.6875 0 \nL 23.484375 0 \nz\n\" id=\"DejaVuSans-118\"/>\n        <path d=\"M 56.203125 29.59375 \nL 56.203125 25.203125 \nL 14.890625 25.203125 \nQ 15.484375 15.921875 20.484375 11.0625 \nQ 25.484375 6.203125 34.421875 6.203125 \nQ 39.59375 6.203125 44.453125 7.46875 \nQ 49.3125 8.734375 54.109375 11.28125 \nL 54.109375 2.78125 \nQ 49.265625 0.734375 44.1875 -0.34375 \nQ 39.109375 -1.421875 33.890625 -1.421875 \nQ 20.796875 -1.421875 13.15625 6.1875 \nQ 5.515625 13.8125 5.515625 26.8125 \nQ 5.515625 40.234375 12.765625 48.109375 \nQ 20.015625 56 32.328125 56 \nQ 43.359375 56 49.78125 48.890625 \nQ 56.203125 41.796875 56.203125 29.59375 \nz\nM 47.21875 32.234375 \nQ 47.125 39.59375 43.09375 43.984375 \nQ 39.0625 48.390625 32.421875 48.390625 \nQ 24.90625 48.390625 20.390625 44.140625 \nQ 15.875 39.890625 15.1875 32.171875 \nz\n\" id=\"DejaVuSans-101\"/>\n       </defs>\n       <use xlink:href=\"#DejaVuSans-104\"/>\n       <use x=\"63.378906\" xlink:href=\"#DejaVuSans-97\"/>\n       <use x=\"124.658203\" xlink:href=\"#DejaVuSans-118\"/>\n       <use x=\"183.837891\" xlink:href=\"#DejaVuSans-101\"/>\n      </g>\n     </g>\n    </g>\n    <g id=\"ytick_6\">\n     <g id=\"line2d_27\">\n      <path clip-path=\"url(#p657898d42e)\" d=\"M 37.125 202.896 \nL 663.525 202.896 \n\" style=\"fill:none;stroke:#cbcbcb;\"/>\n     </g>\n     <g id=\"line2d_28\"/>\n     <g id=\"text_14\">\n      <!-- and -->\n      <g transform=\"translate(14.810938 206.695219)scale(0.1 -0.1)\">\n       <defs>\n        <path d=\"M 45.40625 46.390625 \nL 45.40625 75.984375 \nL 54.390625 75.984375 \nL 54.390625 0 \nL 45.40625 0 \nL 45.40625 8.203125 \nQ 42.578125 3.328125 38.25 0.953125 \nQ 33.9375 -1.421875 27.875 -1.421875 \nQ 17.96875 -1.421875 11.734375 6.484375 \nQ 5.515625 14.40625 5.515625 27.296875 \nQ 5.515625 40.1875 11.734375 48.09375 \nQ 17.96875 56 27.875 56 \nQ 33.9375 56 38.25 53.625 \nQ 42.578125 51.265625 45.40625 46.390625 \nz\nM 14.796875 27.296875 \nQ 14.796875 17.390625 18.875 11.75 \nQ 22.953125 6.109375 30.078125 6.109375 \nQ 37.203125 6.109375 41.296875 11.75 \nQ 45.40625 17.390625 45.40625 27.296875 \nQ 45.40625 37.203125 41.296875 42.84375 \nQ 37.203125 48.484375 30.078125 48.484375 \nQ 22.953125 48.484375 18.875 42.84375 \nQ 14.796875 37.203125 14.796875 27.296875 \nz\n\" id=\"DejaVuSans-100\"/>\n       </defs>\n       <use xlink:href=\"#DejaVuSans-97\"/>\n       <use x=\"61.279297\" xlink:href=\"#DejaVuSans-110\"/>\n       <use x=\"124.658203\" xlink:href=\"#DejaVuSans-100\"/>\n      </g>\n     </g>\n    </g>\n    <g id=\"ytick_7\">\n     <g id=\"line2d_29\">\n      <path clip-path=\"url(#p657898d42e)\" d=\"M 37.125 159.408 \nL 663.525 159.408 \n\" style=\"fill:none;stroke:#cbcbcb;\"/>\n     </g>\n     <g id=\"line2d_30\"/>\n     <g id=\"text_15\">\n      <!-- for -->\n      <g transform=\"translate(19.875 163.207219)scale(0.1 -0.1)\">\n       <defs>\n        <path d=\"M 37.109375 75.984375 \nL 37.109375 68.5 \nL 28.515625 68.5 \nQ 23.6875 68.5 21.796875 66.546875 \nQ 19.921875 64.59375 19.921875 59.515625 \nL 19.921875 54.6875 \nL 34.71875 54.6875 \nL 34.71875 47.703125 \nL 19.921875 47.703125 \nL 19.921875 0 \nL 10.890625 0 \nL 10.890625 47.703125 \nL 2.296875 47.703125 \nL 2.296875 54.6875 \nL 10.890625 54.6875 \nL 10.890625 58.5 \nQ 10.890625 67.625 15.140625 71.796875 \nQ 19.390625 75.984375 28.609375 75.984375 \nz\n\" id=\"DejaVuSans-102\"/>\n        <path d=\"M 41.109375 46.296875 \nQ 39.59375 47.171875 37.8125 47.578125 \nQ 36.03125 48 33.890625 48 \nQ 26.265625 48 22.1875 43.046875 \nQ 18.109375 38.09375 18.109375 28.8125 \nL 18.109375 0 \nL 9.078125 0 \nL 9.078125 54.6875 \nL 18.109375 54.6875 \nL 18.109375 46.1875 \nQ 20.953125 51.171875 25.484375 53.578125 \nQ 30.03125 56 36.53125 56 \nQ 37.453125 56 38.578125 55.875 \nQ 39.703125 55.765625 41.0625 55.515625 \nz\n\" id=\"DejaVuSans-114\"/>\n       </defs>\n       <use xlink:href=\"#DejaVuSans-102\"/>\n       <use x=\"35.205078\" xlink:href=\"#DejaVuSans-111\"/>\n       <use x=\"96.386719\" xlink:href=\"#DejaVuSans-114\"/>\n      </g>\n     </g>\n    </g>\n    <g id=\"ytick_8\">\n     <g id=\"line2d_31\">\n      <path clip-path=\"url(#p657898d42e)\" d=\"M 37.125 115.92 \nL 663.525 115.92 \n\" style=\"fill:none;stroke:#cbcbcb;\"/>\n     </g>\n     <g id=\"line2d_32\"/>\n     <g id=\"text_16\">\n      <!-- get -->\n      <g transform=\"translate(17.203125 119.719219)scale(0.1 -0.1)\">\n       <defs>\n        <path d=\"M 45.40625 27.984375 \nQ 45.40625 37.75 41.375 43.109375 \nQ 37.359375 48.484375 30.078125 48.484375 \nQ 22.859375 48.484375 18.828125 43.109375 \nQ 14.796875 37.75 14.796875 27.984375 \nQ 14.796875 18.265625 18.828125 12.890625 \nQ 22.859375 7.515625 30.078125 7.515625 \nQ 37.359375 7.515625 41.375 12.890625 \nQ 45.40625 18.265625 45.40625 27.984375 \nz\nM 54.390625 6.78125 \nQ 54.390625 -7.171875 48.1875 -13.984375 \nQ 42 -20.796875 29.203125 -20.796875 \nQ 24.46875 -20.796875 20.265625 -20.09375 \nQ 16.0625 -19.390625 12.109375 -17.921875 \nL 12.109375 -9.1875 \nQ 16.0625 -11.328125 19.921875 -12.34375 \nQ 23.78125 -13.375 27.78125 -13.375 \nQ 36.625 -13.375 41.015625 -8.765625 \nQ 45.40625 -4.15625 45.40625 5.171875 \nL 45.40625 9.625 \nQ 42.625 4.78125 38.28125 2.390625 \nQ 33.9375 0 27.875 0 \nQ 17.828125 0 11.671875 7.65625 \nQ 5.515625 15.328125 5.515625 27.984375 \nQ 5.515625 40.671875 11.671875 48.328125 \nQ 17.828125 56 27.875 56 \nQ 33.9375 56 38.28125 53.609375 \nQ 42.625 51.21875 45.40625 46.390625 \nL 45.40625 54.6875 \nL 54.390625 54.6875 \nz\n\" id=\"DejaVuSans-103\"/>\n       </defs>\n       <use xlink:href=\"#DejaVuSans-103\"/>\n       <use x=\"63.476562\" xlink:href=\"#DejaVuSans-101\"/>\n       <use x=\"125\" xlink:href=\"#DejaVuSans-116\"/>\n      </g>\n     </g>\n    </g>\n    <g id=\"ytick_9\">\n     <g id=\"line2d_33\">\n      <path clip-path=\"url(#p657898d42e)\" d=\"M 37.125 72.432 \nL 663.525 72.432 \n\" style=\"fill:none;stroke:#cbcbcb;\"/>\n     </g>\n     <g id=\"line2d_34\"/>\n     <g id=\"text_17\">\n      <!-- to -->\n      <g transform=\"translate(23.585938 76.231219)scale(0.1 -0.1)\">\n       <use xlink:href=\"#DejaVuSans-116\"/>\n       <use x=\"39.208984\" xlink:href=\"#DejaVuSans-111\"/>\n      </g>\n     </g>\n    </g>\n    <g id=\"ytick_10\">\n     <g id=\"line2d_35\">\n      <path clip-path=\"url(#p657898d42e)\" d=\"M 37.125 28.944 \nL 663.525 28.944 \n\" style=\"fill:none;stroke:#cbcbcb;\"/>\n     </g>\n     <g id=\"line2d_36\"/>\n     <g id=\"text_18\">\n      <!-- the -->\n      <g transform=\"translate(17.214063 32.743219)scale(0.1 -0.1)\">\n       <use xlink:href=\"#DejaVuSans-116\"/>\n       <use x=\"39.208984\" xlink:href=\"#DejaVuSans-104\"/>\n       <use x=\"102.587891\" xlink:href=\"#DejaVuSans-101\"/>\n      </g>\n     </g>\n    </g>\n   </g>\n   <g id=\"patch_3\">\n    <path clip-path=\"url(#p657898d42e)\" d=\"M 37.125 431.208 \nL 321.019811 431.208 \nL 321.019811 409.464 \nL 37.125 409.464 \nz\n\" style=\"fill:#0000ff;\"/>\n   </g>\n   <g id=\"patch_4\">\n    <path clip-path=\"url(#p657898d42e)\" d=\"M 37.125 387.72 \nL 323.923705 387.72 \nL 323.923705 365.976 \nL 37.125 365.976 \nz\n\" style=\"fill:#0000ff;\"/>\n   </g>\n   <g id=\"patch_5\">\n    <path clip-path=\"url(#p657898d42e)\" d=\"M 37.125 344.232 \nL 326.117999 344.232 \nL 326.117999 322.488 \nL 37.125 322.488 \nz\n\" style=\"fill:#0000ff;\"/>\n   </g>\n   <g id=\"patch_6\">\n    <path clip-path=\"url(#p657898d42e)\" d=\"M 37.125 300.744 \nL 336.101671 300.744 \nL 336.101671 279 \nL 37.125 279 \nz\n\" style=\"fill:#0000ff;\"/>\n   </g>\n   <g id=\"patch_7\">\n    <path clip-path=\"url(#p657898d42e)\" d=\"M 37.125 257.256 \nL 338.468152 257.256 \nL 338.468152 235.512 \nL 37.125 235.512 \nz\n\" style=\"fill:#0000ff;\"/>\n   </g>\n   <g id=\"patch_8\">\n    <path clip-path=\"url(#p657898d42e)\" d=\"M 37.125 213.768 \nL 350.939867 213.768 \nL 350.939867 192.024 \nL 37.125 192.024 \nz\n\" style=\"fill:#0000ff;\"/>\n   </g>\n   <g id=\"patch_9\">\n    <path clip-path=\"url(#p657898d42e)\" d=\"M 37.125 170.28 \nL 381.210272 170.28 \nL 381.210272 148.536 \nL 37.125 148.536 \nz\n\" style=\"fill:#0000ff;\"/>\n   </g>\n   <g id=\"patch_10\">\n    <path clip-path=\"url(#p657898d42e)\" d=\"M 37.125 126.792 \nL 432.282659 126.792 \nL 432.282659 105.048 \nL 37.125 105.048 \nz\n\" style=\"fill:#0000ff;\"/>\n   </g>\n   <g id=\"patch_11\">\n    <path clip-path=\"url(#p657898d42e)\" d=\"M 37.125 83.304 \nL 545.668943 83.304 \nL 545.668943 61.56 \nL 37.125 61.56 \nz\n\" style=\"fill:#0000ff;\"/>\n   </g>\n   <g id=\"patch_12\">\n    <path clip-path=\"url(#p657898d42e)\" d=\"M 37.125 39.816 \nL 633.696429 39.816 \nL 633.696429 18.072 \nL 37.125 18.072 \nz\n\" style=\"fill:#0000ff;\"/>\n   </g>\n   <g id=\"patch_13\">\n    <path d=\"M 37.125 442.08 \nL 37.125 7.2 \n\" style=\"fill:none;stroke:#f0f0f0;stroke-linecap:square;stroke-linejoin:miter;stroke-width:3;\"/>\n   </g>\n   <g id=\"patch_14\">\n    <path d=\"M 663.525 442.08 \nL 663.525 7.2 \n\" style=\"fill:none;stroke:#f0f0f0;stroke-linecap:square;stroke-linejoin:miter;stroke-width:3;\"/>\n   </g>\n   <g id=\"patch_15\">\n    <path d=\"M 37.125 442.08 \nL 663.525 442.08 \n\" style=\"fill:none;stroke:#f0f0f0;stroke-linecap:square;stroke-linejoin:miter;stroke-width:3;\"/>\n   </g>\n   <g id=\"patch_16\">\n    <path d=\"M 37.125 7.2 \nL 663.525 7.2 \n\" style=\"fill:none;stroke:#f0f0f0;stroke-linecap:square;stroke-linejoin:miter;stroke-width:3;\"/>\n   </g>\n  </g>\n </g>\n <defs>\n  <clipPath id=\"p657898d42e\">\n   <rect height=\"434.88\" width=\"626.4\" x=\"37.125\" y=\"7.2\"/>\n  </clipPath>\n </defs>\n</svg>\n",
      "image/png": "[encoded data removed]"
     },
     "metadata": {
      "needs_background": "light"
     }
    }
   ],
   "source": [
    "# Plot the feature importance\n",
    "feat_scores = pd.Series(rf.feature_importances_, index=vectorizer.get_feature_names())\n",
    "feat_scores = feat_scores.sort_values()\n",
    "ax = feat_scores[-10:].plot(kind='barh', \n",
    "                      figsize=(10,8),\n",
    "                      color='b')"
   ]
  },
  {
   "cell_type": "code",
   "execution_count": 48,
   "metadata": {},
   "outputs": [
    {
     "output_type": "error",
     "ename": "AttributeError",
     "evalue": "columns not found",
     "traceback": [
      "\u001b[0;31m---------------------------------------------------------------------------\u001b[0m",
      "\u001b[0;31mAttributeError\u001b[0m                            Traceback (most recent call last)",
      "\u001b[0;32m<ipython-input-48-42620b01883b>\u001b[0m in \u001b[0;36m<module>\u001b[0;34m\u001b[0m\n\u001b[0;32m----> 1\u001b[0;31m \u001b[0mfeat_scores\u001b[0m \u001b[0;34m=\u001b[0m \u001b[0mpd\u001b[0m\u001b[0;34m.\u001b[0m\u001b[0mSeries\u001b[0m\u001b[0;34m(\u001b[0m\u001b[0mrf\u001b[0m\u001b[0;34m.\u001b[0m\u001b[0mfeature_importances_\u001b[0m\u001b[0;34m,\u001b[0m \u001b[0mindex\u001b[0m\u001b[0;34m=\u001b[0m\u001b[0mX\u001b[0m\u001b[0;34m.\u001b[0m\u001b[0mcolumns\u001b[0m\u001b[0;34m)\u001b[0m\u001b[0;34m\u001b[0m\u001b[0;34m\u001b[0m\u001b[0m\n\u001b[0m\u001b[1;32m      2\u001b[0m \u001b[0max\u001b[0m \u001b[0;34m=\u001b[0m \u001b[0mfeat_scores\u001b[0m\u001b[0;34m.\u001b[0m\u001b[0mplot\u001b[0m\u001b[0;34m(\u001b[0m\u001b[0mkind\u001b[0m\u001b[0;34m=\u001b[0m\u001b[0;34m'barh'\u001b[0m\u001b[0;34m,\u001b[0m\u001b[0mfigsize\u001b[0m\u001b[0;34m=\u001b[0m\u001b[0;34m(\u001b[0m\u001b[0;36m10\u001b[0m\u001b[0;34m,\u001b[0m\u001b[0;36m8\u001b[0m\u001b[0;34m)\u001b[0m\u001b[0;34m)\u001b[0m\u001b[0;34m\u001b[0m\u001b[0;34m\u001b[0m\u001b[0m\n",
      "\u001b[0;32m~/anaconda3/lib/python3.7/site-packages/scipy/sparse/base.py\u001b[0m in \u001b[0;36m__getattr__\u001b[0;34m(self, attr)\u001b[0m\n\u001b[1;32m    685\u001b[0m             \u001b[0;32mreturn\u001b[0m \u001b[0mself\u001b[0m\u001b[0;34m.\u001b[0m\u001b[0mgetnnz\u001b[0m\u001b[0;34m(\u001b[0m\u001b[0;34m)\u001b[0m\u001b[0;34m\u001b[0m\u001b[0;34m\u001b[0m\u001b[0m\n\u001b[1;32m    686\u001b[0m         \u001b[0;32melse\u001b[0m\u001b[0;34m:\u001b[0m\u001b[0;34m\u001b[0m\u001b[0;34m\u001b[0m\u001b[0m\n\u001b[0;32m--> 687\u001b[0;31m             \u001b[0;32mraise\u001b[0m \u001b[0mAttributeError\u001b[0m\u001b[0;34m(\u001b[0m\u001b[0mattr\u001b[0m \u001b[0;34m+\u001b[0m \u001b[0;34m\" not found\"\u001b[0m\u001b[0;34m)\u001b[0m\u001b[0;34m\u001b[0m\u001b[0;34m\u001b[0m\u001b[0m\n\u001b[0m\u001b[1;32m    688\u001b[0m \u001b[0;34m\u001b[0m\u001b[0m\n\u001b[1;32m    689\u001b[0m     \u001b[0;32mdef\u001b[0m \u001b[0mtranspose\u001b[0m\u001b[0;34m(\u001b[0m\u001b[0mself\u001b[0m\u001b[0;34m,\u001b[0m \u001b[0maxes\u001b[0m\u001b[0;34m=\u001b[0m\u001b[0;32mNone\u001b[0m\u001b[0;34m,\u001b[0m \u001b[0mcopy\u001b[0m\u001b[0;34m=\u001b[0m\u001b[0;32mFalse\u001b[0m\u001b[0;34m)\u001b[0m\u001b[0;34m:\u001b[0m\u001b[0;34m\u001b[0m\u001b[0;34m\u001b[0m\u001b[0m\n",
      "\u001b[0;31mAttributeError\u001b[0m: columns not found"
     ]
    }
   ],
   "source": [
    "feat_scores = pd.Series(rf.feature_importances_, index=X.columns)\n",
    "ax = feat_scores.plot(kind='barh',figsize=(10,8))"
   ]
  },
  {
   "cell_type": "code",
   "execution_count": 52,
   "metadata": {},
   "outputs": [],
   "source": [
    "from sklearn.metrics import confusion_matrix\n",
    "from sklearn.metrics import plot_confusion_matrix"
   ]
  },
  {
   "cell_type": "code",
   "execution_count": 59,
   "metadata": {},
   "outputs": [
    {
     "output_type": "stream",
     "name": "stdout",
     "text": [
      "col_0      False  True \nlow_score              \nFalse        110      0\nTrue           6    111\n"
     ]
    }
   ],
   "source": [
    "cf = pd.crosstab(y_test,rf.predict(X_test))\n",
    "print(cf)"
   ]
  },
  {
   "cell_type": "code",
   "execution_count": 54,
   "metadata": {},
   "outputs": [
    {
     "output_type": "error",
     "ename": "ValueError",
     "evalue": "plot_confusion_matrix only supports classifiers",
     "traceback": [
      "\u001b[0;31m---------------------------------------------------------------------------\u001b[0m",
      "\u001b[0;31mValueError\u001b[0m                                Traceback (most recent call last)",
      "\u001b[0;32m<ipython-input-54-182afd3471d4>\u001b[0m in \u001b[0;36m<module>\u001b[0;34m\u001b[0m\n\u001b[0;32m----> 1\u001b[0;31m \u001b[0mplot_confusion_matrix\u001b[0m\u001b[0;34m(\u001b[0m\u001b[0mcf\u001b[0m\u001b[0;34m.\u001b[0m\u001b[0mvalues\u001b[0m\u001b[0;34m,\u001b[0m \u001b[0mcf\u001b[0m\u001b[0;34m.\u001b[0m\u001b[0mindex\u001b[0m\u001b[0;34m.\u001b[0m\u001b[0mvalues\u001b[0m\u001b[0;34m,\u001b[0m \u001b[0mcf\u001b[0m\u001b[0;34m.\u001b[0m\u001b[0mT\u001b[0m\u001b[0;34m.\u001b[0m\u001b[0mindex\u001b[0m\u001b[0;34m.\u001b[0m\u001b[0mvalues\u001b[0m\u001b[0;34m)\u001b[0m\u001b[0;34m\u001b[0m\u001b[0;34m\u001b[0m\u001b[0m\n\u001b[0m",
      "\u001b[0;32m~/anaconda3/lib/python3.7/site-packages/sklearn/utils/validation.py\u001b[0m in \u001b[0;36minner_f\u001b[0;34m(*args, **kwargs)\u001b[0m\n\u001b[1;32m     61\u001b[0m             \u001b[0mextra_args\u001b[0m \u001b[0;34m=\u001b[0m \u001b[0mlen\u001b[0m\u001b[0;34m(\u001b[0m\u001b[0margs\u001b[0m\u001b[0;34m)\u001b[0m \u001b[0;34m-\u001b[0m \u001b[0mlen\u001b[0m\u001b[0;34m(\u001b[0m\u001b[0mall_args\u001b[0m\u001b[0;34m)\u001b[0m\u001b[0;34m\u001b[0m\u001b[0;34m\u001b[0m\u001b[0m\n\u001b[1;32m     62\u001b[0m             \u001b[0;32mif\u001b[0m \u001b[0mextra_args\u001b[0m \u001b[0;34m<=\u001b[0m \u001b[0;36m0\u001b[0m\u001b[0;34m:\u001b[0m\u001b[0;34m\u001b[0m\u001b[0;34m\u001b[0m\u001b[0m\n\u001b[0;32m---> 63\u001b[0;31m                 \u001b[0;32mreturn\u001b[0m \u001b[0mf\u001b[0m\u001b[0;34m(\u001b[0m\u001b[0;34m*\u001b[0m\u001b[0margs\u001b[0m\u001b[0;34m,\u001b[0m \u001b[0;34m**\u001b[0m\u001b[0mkwargs\u001b[0m\u001b[0;34m)\u001b[0m\u001b[0;34m\u001b[0m\u001b[0;34m\u001b[0m\u001b[0m\n\u001b[0m\u001b[1;32m     64\u001b[0m \u001b[0;34m\u001b[0m\u001b[0m\n\u001b[1;32m     65\u001b[0m             \u001b[0;31m# extra_args > 0\u001b[0m\u001b[0;34m\u001b[0m\u001b[0;34m\u001b[0m\u001b[0;34m\u001b[0m\u001b[0m\n",
      "\u001b[0;32m~/anaconda3/lib/python3.7/site-packages/sklearn/metrics/_plot/confusion_matrix.py\u001b[0m in \u001b[0;36mplot_confusion_matrix\u001b[0;34m(estimator, X, y_true, labels, sample_weight, normalize, display_labels, include_values, xticks_rotation, values_format, cmap, ax, colorbar)\u001b[0m\n\u001b[1;32m    256\u001b[0m \u001b[0;34m\u001b[0m\u001b[0m\n\u001b[1;32m    257\u001b[0m     \u001b[0;32mif\u001b[0m \u001b[0;32mnot\u001b[0m \u001b[0mis_classifier\u001b[0m\u001b[0;34m(\u001b[0m\u001b[0mestimator\u001b[0m\u001b[0;34m)\u001b[0m\u001b[0;34m:\u001b[0m\u001b[0;34m\u001b[0m\u001b[0;34m\u001b[0m\u001b[0m\n\u001b[0;32m--> 258\u001b[0;31m         \u001b[0;32mraise\u001b[0m \u001b[0mValueError\u001b[0m\u001b[0;34m(\u001b[0m\u001b[0;34m\"plot_confusion_matrix only supports classifiers\"\u001b[0m\u001b[0;34m)\u001b[0m\u001b[0;34m\u001b[0m\u001b[0;34m\u001b[0m\u001b[0m\n\u001b[0m\u001b[1;32m    259\u001b[0m \u001b[0;34m\u001b[0m\u001b[0m\n\u001b[1;32m    260\u001b[0m     \u001b[0my_pred\u001b[0m \u001b[0;34m=\u001b[0m \u001b[0mestimator\u001b[0m\u001b[0;34m.\u001b[0m\u001b[0mpredict\u001b[0m\u001b[0;34m(\u001b[0m\u001b[0mX\u001b[0m\u001b[0;34m)\u001b[0m\u001b[0;34m\u001b[0m\u001b[0;34m\u001b[0m\u001b[0m\n",
      "\u001b[0;31mValueError\u001b[0m: plot_confusion_matrix only supports classifiers"
     ]
    }
   ],
   "source": [
    "plot_confusion_matrix(rf,cf.values, cf.index.values, cf.T.index.values)"
   ]
  },
  {
   "cell_type": "code",
   "execution_count": null,
   "metadata": {},
   "outputs": [],
   "source": []
  }
 ]
}