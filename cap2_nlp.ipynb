{
 "metadata": {
  "language_info": {
   "codemirror_mode": {
    "name": "ipython",
    "version": 3
   },
   "file_extension": ".py",
   "mimetype": "text/x-python",
   "name": "python",
   "nbconvert_exporter": "python",
   "pygments_lexer": "ipython3",
   "version": "3.7.10"
  },
  "orig_nbformat": 2,
  "kernelspec": {
   "name": "python3",
   "display_name": "Python 3.7.10 64-bit ('base': conda)",
   "metadata": {
    "interpreter": {
     "hash": "b7dce63e39a4a8c98f5a1ef1e65571106e15efed32663927d397570964b86d03"
    }
   }
  }
 },
 "nbformat": 4,
 "nbformat_minor": 2,
 "cells": [
  {
   "cell_type": "code",
   "execution_count": 76,
   "metadata": {},
   "outputs": [],
   "source": [
    "from pymongo import MongoClient\n",
    "import pprint\n",
    "import numpy as np\n",
    "import scipy.stats as stats\n",
    "import scipy\n",
    "\n",
    "import pandas as pd\n",
    "import matplotlib.pyplot as plt\n",
    "import matplotlib.patches as mpatches\n",
    "\n",
    "plt.style.use('fivethirtyeight')\n",
    "\n",
    "import requests\n",
    "\n",
    "from bs4 import BeautifulSoup\n",
    "\n",
    "import json\n",
    "import time\n",
    "import copy\n",
    "from datetime import datetime"
   ]
  },
  {
   "cell_type": "code",
   "execution_count": 77,
   "metadata": {},
   "outputs": [],
   "source": [
    "pokemon_df_complete = pd.read_csv('~/DSI_ii/cap_stones/DSI_CS2/data/pokemongo_new.csv')"
   ]
  },
  {
   "cell_type": "code",
   "execution_count": 78,
   "metadata": {},
   "outputs": [
    {
     "output_type": "execute_result",
     "data": {
      "text/plain": [
       "     Unnamed: 0                                              title  score  \\\n",
       "0             0  What’s the meta right now for the premier league?      1   \n",
       "1             1                  A gaze open him in disappointment      4   \n",
       "2             2                Niantic AR Glasses are coming soon!      2   \n",
       "3             3                    The Higher They Fly... research      3   \n",
       "4             4  Can I get still get shadow mewtwo if i beat gi...      2   \n",
       "..          ...                                                ...    ...   \n",
       "978         978                                         Raid issue      1   \n",
       "979         979                                   Referral Rewards     43   \n",
       "980         980  Only took me about 3 years! Just in time for m...     35   \n",
       "981         981  How to get multiple of the same task from the ...      0   \n",
       "982         982                           Pokémon GO referral code      0   \n",
       "\n",
       "         id  subreddit                                                url  \\\n",
       "0    mfz6c6  pokemongo  https://www.reddit.com/r/pokemongo/comments/mf...   \n",
       "1    mfyy6y  pokemongo                https://i.redd.it/i2nuhrod31q61.jpg   \n",
       "2    mfyvpl  pokemongo  https://twitter.com/johnhanke/status/137662474...   \n",
       "3    mfytk6  pokemongo  https://www.reddit.com/r/pokemongo/comments/mf...   \n",
       "4    mfyqmj  pokemongo  https://www.reddit.com/r/pokemongo/comments/mf...   \n",
       "..      ...        ...                                                ...   \n",
       "978  m7fsak  pokemongo  https://www.reddit.com/r/pokemongo/comments/m7...   \n",
       "979  m7fn92  pokemongo                https://i.redd.it/73ahpz54ton61.jpg   \n",
       "980  m7f7wz  pokemongo  https://www.reddit.com/r/pokemongo/comments/m7...   \n",
       "981  m7f6he  pokemongo  https://www.reddit.com/r/pokemongo/comments/m7...   \n",
       "982  m7f4hp  pokemongo  https://www.reddit.com/r/pokemongo/comments/m7...   \n",
       "\n",
       "     num_comments                                               body  \\\n",
       "0               2  Just wondering what most people would consider...   \n",
       "1               8                                                NaN   \n",
       "2               0                                                NaN   \n",
       "3               3  My brother just finished defeating Giovanni, g...   \n",
       "4               9  So i just complete an Inter-egg-sting developm...   \n",
       "..            ...                                                ...   \n",
       "978             2  Me and my friend were doing a raid and used ou...   \n",
       "979            24                                                NaN   \n",
       "980             7  I'm so happy to finally hit 40, I've been work...   \n",
       "981             7  So I’m out trying to get the Gible task, I got...   \n",
       "982            15  If you join or return to Pokémon GO using my r...   \n",
       "\n",
       "                 created  \n",
       "0    2021-03-30 04:49:12  \n",
       "1    2021-03-30 04:39:06  \n",
       "2    2021-03-30 04:35:53  \n",
       "3    2021-03-30 04:33:09  \n",
       "4    2021-03-30 04:29:36  \n",
       "..                   ...  \n",
       "978  2021-03-18 09:20:19  \n",
       "979  2021-03-18 09:12:34  \n",
       "980  2021-03-18 08:49:35  \n",
       "981  2021-03-18 08:47:25  \n",
       "982  2021-03-18 08:44:27  \n",
       "\n",
       "[983 rows x 9 columns]"
      ],
      "text/html": "<div>\n<style scoped>\n    .dataframe tbody tr th:only-of-type {\n        vertical-align: middle;\n    }\n\n    .dataframe tbody tr th {\n        vertical-align: top;\n    }\n\n    .dataframe thead th {\n        text-align: right;\n    }\n</style>\n<table border=\"1\" class=\"dataframe\">\n  <thead>\n    <tr style=\"text-align: right;\">\n      <th></th>\n      <th>Unnamed: 0</th>\n      <th>title</th>\n      <th>score</th>\n      <th>id</th>\n      <th>subreddit</th>\n      <th>url</th>\n      <th>num_comments</th>\n      <th>body</th>\n      <th>created</th>\n    </tr>\n  </thead>\n  <tbody>\n    <tr>\n      <th>0</th>\n      <td>0</td>\n      <td>What’s the meta right now for the premier league?</td>\n      <td>1</td>\n      <td>mfz6c6</td>\n      <td>pokemongo</td>\n      <td>https://www.reddit.com/r/pokemongo/comments/mf...</td>\n      <td>2</td>\n      <td>Just wondering what most people would consider...</td>\n      <td>2021-03-30 04:49:12</td>\n    </tr>\n    <tr>\n      <th>1</th>\n      <td>1</td>\n      <td>A gaze open him in disappointment</td>\n      <td>4</td>\n      <td>mfyy6y</td>\n      <td>pokemongo</td>\n      <td>https://i.redd.it/i2nuhrod31q61.jpg</td>\n      <td>8</td>\n      <td>NaN</td>\n      <td>2021-03-30 04:39:06</td>\n    </tr>\n    <tr>\n      <th>2</th>\n      <td>2</td>\n      <td>Niantic AR Glasses are coming soon!</td>\n      <td>2</td>\n      <td>mfyvpl</td>\n      <td>pokemongo</td>\n      <td>https://twitter.com/johnhanke/status/137662474...</td>\n      <td>0</td>\n      <td>NaN</td>\n      <td>2021-03-30 04:35:53</td>\n    </tr>\n    <tr>\n      <th>3</th>\n      <td>3</td>\n      <td>The Higher They Fly... research</td>\n      <td>3</td>\n      <td>mfytk6</td>\n      <td>pokemongo</td>\n      <td>https://www.reddit.com/r/pokemongo/comments/mf...</td>\n      <td>3</td>\n      <td>My brother just finished defeating Giovanni, g...</td>\n      <td>2021-03-30 04:33:09</td>\n    </tr>\n    <tr>\n      <th>4</th>\n      <td>4</td>\n      <td>Can I get still get shadow mewtwo if i beat gi...</td>\n      <td>2</td>\n      <td>mfyqmj</td>\n      <td>pokemongo</td>\n      <td>https://www.reddit.com/r/pokemongo/comments/mf...</td>\n      <td>9</td>\n      <td>So i just complete an Inter-egg-sting developm...</td>\n      <td>2021-03-30 04:29:36</td>\n    </tr>\n    <tr>\n      <th>...</th>\n      <td>...</td>\n      <td>...</td>\n      <td>...</td>\n      <td>...</td>\n      <td>...</td>\n      <td>...</td>\n      <td>...</td>\n      <td>...</td>\n      <td>...</td>\n    </tr>\n    <tr>\n      <th>978</th>\n      <td>978</td>\n      <td>Raid issue</td>\n      <td>1</td>\n      <td>m7fsak</td>\n      <td>pokemongo</td>\n      <td>https://www.reddit.com/r/pokemongo/comments/m7...</td>\n      <td>2</td>\n      <td>Me and my friend were doing a raid and used ou...</td>\n      <td>2021-03-18 09:20:19</td>\n    </tr>\n    <tr>\n      <th>979</th>\n      <td>979</td>\n      <td>Referral Rewards</td>\n      <td>43</td>\n      <td>m7fn92</td>\n      <td>pokemongo</td>\n      <td>https://i.redd.it/73ahpz54ton61.jpg</td>\n      <td>24</td>\n      <td>NaN</td>\n      <td>2021-03-18 09:12:34</td>\n    </tr>\n    <tr>\n      <th>980</th>\n      <td>980</td>\n      <td>Only took me about 3 years! Just in time for m...</td>\n      <td>35</td>\n      <td>m7f7wz</td>\n      <td>pokemongo</td>\n      <td>https://www.reddit.com/r/pokemongo/comments/m7...</td>\n      <td>7</td>\n      <td>I'm so happy to finally hit 40, I've been work...</td>\n      <td>2021-03-18 08:49:35</td>\n    </tr>\n    <tr>\n      <th>981</th>\n      <td>981</td>\n      <td>How to get multiple of the same task from the ...</td>\n      <td>0</td>\n      <td>m7f6he</td>\n      <td>pokemongo</td>\n      <td>https://www.reddit.com/r/pokemongo/comments/m7...</td>\n      <td>7</td>\n      <td>So I’m out trying to get the Gible task, I got...</td>\n      <td>2021-03-18 08:47:25</td>\n    </tr>\n    <tr>\n      <th>982</th>\n      <td>982</td>\n      <td>Pokémon GO referral code</td>\n      <td>0</td>\n      <td>m7f4hp</td>\n      <td>pokemongo</td>\n      <td>https://www.reddit.com/r/pokemongo/comments/m7...</td>\n      <td>15</td>\n      <td>If you join or return to Pokémon GO using my r...</td>\n      <td>2021-03-18 08:44:27</td>\n    </tr>\n  </tbody>\n</table>\n<p>983 rows × 9 columns</p>\n</div>"
     },
     "metadata": {},
     "execution_count": 78
    }
   ],
   "source": [
    "pokemon_df_complete"
   ]
  },
  {
   "cell_type": "code",
   "execution_count": 79,
   "metadata": {},
   "outputs": [],
   "source": [
    "pokemon_df = pokemon_df_complete[pokemon_df_complete.created <'2021-03-29 10:49:12']"
   ]
  },
  {
   "cell_type": "code",
   "execution_count": 80,
   "metadata": {},
   "outputs": [
    {
     "output_type": "execute_result",
     "data": {
      "text/plain": [
       "                                                 title  score      id  \\\n",
       "76                        Kyogre.. what are you doing?     42  mffwsy   \n",
       "77             How’s everyone’s shiny Mew quest going?      1  mfflil   \n",
       "78          Oh, nvm, there’s another one a block over!    303  mffjio   \n",
       "79                                          Quick Rant      4  mffi4a   \n",
       "80                                  Not shiny rayquaza      3  mffb8v   \n",
       "..                                                 ...    ...     ...   \n",
       "978                                         Raid issue      1  m7fsak   \n",
       "979                                   Referral Rewards     43  m7fn92   \n",
       "980  Only took me about 3 years! Just in time for m...     35  m7f7wz   \n",
       "981  How to get multiple of the same task from the ...      0  m7f6he   \n",
       "982                           Pokémon GO referral code      0  m7f4hp   \n",
       "\n",
       "     subreddit                                                url  \\\n",
       "76   pokemongo                https://i.redd.it/jpgidk26qvp61.jpg   \n",
       "77   pokemongo  https://www.reddit.com/r/pokemongo/comments/mf...   \n",
       "78   pokemongo                https://i.redd.it/0zhcza88mvp61.jpg   \n",
       "79   pokemongo  https://www.reddit.com/r/pokemongo/comments/mf...   \n",
       "80   pokemongo  https://www.reddit.com/r/pokemongo/comments/mf...   \n",
       "..         ...                                                ...   \n",
       "978  pokemongo  https://www.reddit.com/r/pokemongo/comments/m7...   \n",
       "979  pokemongo                https://i.redd.it/73ahpz54ton61.jpg   \n",
       "980  pokemongo  https://www.reddit.com/r/pokemongo/comments/m7...   \n",
       "981  pokemongo  https://www.reddit.com/r/pokemongo/comments/m7...   \n",
       "982  pokemongo  https://www.reddit.com/r/pokemongo/comments/m7...   \n",
       "\n",
       "     num_comments                                               body  \\\n",
       "76             10                                                NaN   \n",
       "77             20  All I can say is I have never walked so much i...   \n",
       "78             14                                                NaN   \n",
       "79              3  Anyone else sick of reward pokemon (like for r...   \n",
       "80              1  It may not be a shiny rayquaza, nor are its iv...   \n",
       "..            ...                                                ...   \n",
       "978             2  Me and my friend were doing a raid and used ou...   \n",
       "979            24                                                NaN   \n",
       "980             7  I'm so happy to finally hit 40, I've been work...   \n",
       "981             7  So I’m out trying to get the Gible task, I got...   \n",
       "982            15  If you join or return to Pokémon GO using my r...   \n",
       "\n",
       "                 created  \n",
       "76   2021-03-29 10:36:08  \n",
       "77   2021-03-29 10:17:17  \n",
       "78   2021-03-29 10:14:03  \n",
       "79   2021-03-29 10:11:53  \n",
       "80   2021-03-29 10:00:49  \n",
       "..                   ...  \n",
       "978  2021-03-18 09:20:19  \n",
       "979  2021-03-18 09:12:34  \n",
       "980  2021-03-18 08:49:35  \n",
       "981  2021-03-18 08:47:25  \n",
       "982  2021-03-18 08:44:27  \n",
       "\n",
       "[907 rows x 8 columns]"
      ],
      "text/html": "<div>\n<style scoped>\n    .dataframe tbody tr th:only-of-type {\n        vertical-align: middle;\n    }\n\n    .dataframe tbody tr th {\n        vertical-align: top;\n    }\n\n    .dataframe thead th {\n        text-align: right;\n    }\n</style>\n<table border=\"1\" class=\"dataframe\">\n  <thead>\n    <tr style=\"text-align: right;\">\n      <th></th>\n      <th>title</th>\n      <th>score</th>\n      <th>id</th>\n      <th>subreddit</th>\n      <th>url</th>\n      <th>num_comments</th>\n      <th>body</th>\n      <th>created</th>\n    </tr>\n  </thead>\n  <tbody>\n    <tr>\n      <th>76</th>\n      <td>Kyogre.. what are you doing?</td>\n      <td>42</td>\n      <td>mffwsy</td>\n      <td>pokemongo</td>\n      <td>https://i.redd.it/jpgidk26qvp61.jpg</td>\n      <td>10</td>\n      <td>NaN</td>\n      <td>2021-03-29 10:36:08</td>\n    </tr>\n    <tr>\n      <th>77</th>\n      <td>How’s everyone’s shiny Mew quest going?</td>\n      <td>1</td>\n      <td>mfflil</td>\n      <td>pokemongo</td>\n      <td>https://www.reddit.com/r/pokemongo/comments/mf...</td>\n      <td>20</td>\n      <td>All I can say is I have never walked so much i...</td>\n      <td>2021-03-29 10:17:17</td>\n    </tr>\n    <tr>\n      <th>78</th>\n      <td>Oh, nvm, there’s another one a block over!</td>\n      <td>303</td>\n      <td>mffjio</td>\n      <td>pokemongo</td>\n      <td>https://i.redd.it/0zhcza88mvp61.jpg</td>\n      <td>14</td>\n      <td>NaN</td>\n      <td>2021-03-29 10:14:03</td>\n    </tr>\n    <tr>\n      <th>79</th>\n      <td>Quick Rant</td>\n      <td>4</td>\n      <td>mffi4a</td>\n      <td>pokemongo</td>\n      <td>https://www.reddit.com/r/pokemongo/comments/mf...</td>\n      <td>3</td>\n      <td>Anyone else sick of reward pokemon (like for r...</td>\n      <td>2021-03-29 10:11:53</td>\n    </tr>\n    <tr>\n      <th>80</th>\n      <td>Not shiny rayquaza</td>\n      <td>3</td>\n      <td>mffb8v</td>\n      <td>pokemongo</td>\n      <td>https://www.reddit.com/r/pokemongo/comments/mf...</td>\n      <td>1</td>\n      <td>It may not be a shiny rayquaza, nor are its iv...</td>\n      <td>2021-03-29 10:00:49</td>\n    </tr>\n    <tr>\n      <th>...</th>\n      <td>...</td>\n      <td>...</td>\n      <td>...</td>\n      <td>...</td>\n      <td>...</td>\n      <td>...</td>\n      <td>...</td>\n      <td>...</td>\n    </tr>\n    <tr>\n      <th>978</th>\n      <td>Raid issue</td>\n      <td>1</td>\n      <td>m7fsak</td>\n      <td>pokemongo</td>\n      <td>https://www.reddit.com/r/pokemongo/comments/m7...</td>\n      <td>2</td>\n      <td>Me and my friend were doing a raid and used ou...</td>\n      <td>2021-03-18 09:20:19</td>\n    </tr>\n    <tr>\n      <th>979</th>\n      <td>Referral Rewards</td>\n      <td>43</td>\n      <td>m7fn92</td>\n      <td>pokemongo</td>\n      <td>https://i.redd.it/73ahpz54ton61.jpg</td>\n      <td>24</td>\n      <td>NaN</td>\n      <td>2021-03-18 09:12:34</td>\n    </tr>\n    <tr>\n      <th>980</th>\n      <td>Only took me about 3 years! Just in time for m...</td>\n      <td>35</td>\n      <td>m7f7wz</td>\n      <td>pokemongo</td>\n      <td>https://www.reddit.com/r/pokemongo/comments/m7...</td>\n      <td>7</td>\n      <td>I'm so happy to finally hit 40, I've been work...</td>\n      <td>2021-03-18 08:49:35</td>\n    </tr>\n    <tr>\n      <th>981</th>\n      <td>How to get multiple of the same task from the ...</td>\n      <td>0</td>\n      <td>m7f6he</td>\n      <td>pokemongo</td>\n      <td>https://www.reddit.com/r/pokemongo/comments/m7...</td>\n      <td>7</td>\n      <td>So I’m out trying to get the Gible task, I got...</td>\n      <td>2021-03-18 08:47:25</td>\n    </tr>\n    <tr>\n      <th>982</th>\n      <td>Pokémon GO referral code</td>\n      <td>0</td>\n      <td>m7f4hp</td>\n      <td>pokemongo</td>\n      <td>https://www.reddit.com/r/pokemongo/comments/m7...</td>\n      <td>15</td>\n      <td>If you join or return to Pokémon GO using my r...</td>\n      <td>2021-03-18 08:44:27</td>\n    </tr>\n  </tbody>\n</table>\n<p>907 rows × 8 columns</p>\n</div>"
     },
     "metadata": {},
     "execution_count": 80
    }
   ],
   "source": [
    "pokemon_df.drop(pokemon_df.columns[0],axis=1)"
   ]
  },
  {
   "cell_type": "code",
   "execution_count": 81,
   "metadata": {},
   "outputs": [
    {
     "output_type": "stream",
     "name": "stderr",
     "text": [
      "/home/thomas/anaconda3/lib/python3.7/site-packages/ipykernel_launcher.py:1: SettingWithCopyWarning: \nA value is trying to be set on a copy of a slice from a DataFrame.\nTry using .loc[row_indexer,col_indexer] = value instead\n\nSee the caveats in the documentation: https://pandas.pydata.org/pandas-docs/stable/user_guide/indexing.html#returning-a-view-versus-a-copy\n  \"\"\"Entry point for launching an IPython kernel.\n"
     ]
    }
   ],
   "source": [
    "pokemon_df['low_score'] = pokemon_df['score']<=1"
   ]
  },
  {
   "cell_type": "code",
   "execution_count": 82,
   "metadata": {},
   "outputs": [
    {
     "output_type": "execute_result",
     "data": {
      "text/plain": [
       "     Unnamed: 0                                              title  score  \\\n",
       "76           76                       Kyogre.. what are you doing?     42   \n",
       "77           77            How’s everyone’s shiny Mew quest going?      1   \n",
       "78           78         Oh, nvm, there’s another one a block over!    303   \n",
       "79           79                                         Quick Rant      4   \n",
       "80           80                                 Not shiny rayquaza      3   \n",
       "..          ...                                                ...    ...   \n",
       "978         978                                         Raid issue      1   \n",
       "979         979                                   Referral Rewards     43   \n",
       "980         980  Only took me about 3 years! Just in time for m...     35   \n",
       "981         981  How to get multiple of the same task from the ...      0   \n",
       "982         982                           Pokémon GO referral code      0   \n",
       "\n",
       "         id  subreddit                                                url  \\\n",
       "76   mffwsy  pokemongo                https://i.redd.it/jpgidk26qvp61.jpg   \n",
       "77   mfflil  pokemongo  https://www.reddit.com/r/pokemongo/comments/mf...   \n",
       "78   mffjio  pokemongo                https://i.redd.it/0zhcza88mvp61.jpg   \n",
       "79   mffi4a  pokemongo  https://www.reddit.com/r/pokemongo/comments/mf...   \n",
       "80   mffb8v  pokemongo  https://www.reddit.com/r/pokemongo/comments/mf...   \n",
       "..      ...        ...                                                ...   \n",
       "978  m7fsak  pokemongo  https://www.reddit.com/r/pokemongo/comments/m7...   \n",
       "979  m7fn92  pokemongo                https://i.redd.it/73ahpz54ton61.jpg   \n",
       "980  m7f7wz  pokemongo  https://www.reddit.com/r/pokemongo/comments/m7...   \n",
       "981  m7f6he  pokemongo  https://www.reddit.com/r/pokemongo/comments/m7...   \n",
       "982  m7f4hp  pokemongo  https://www.reddit.com/r/pokemongo/comments/m7...   \n",
       "\n",
       "     num_comments                                               body  \\\n",
       "76             10                                                NaN   \n",
       "77             20  All I can say is I have never walked so much i...   \n",
       "78             14                                                NaN   \n",
       "79              3  Anyone else sick of reward pokemon (like for r...   \n",
       "80              1  It may not be a shiny rayquaza, nor are its iv...   \n",
       "..            ...                                                ...   \n",
       "978             2  Me and my friend were doing a raid and used ou...   \n",
       "979            24                                                NaN   \n",
       "980             7  I'm so happy to finally hit 40, I've been work...   \n",
       "981             7  So I’m out trying to get the Gible task, I got...   \n",
       "982            15  If you join or return to Pokémon GO using my r...   \n",
       "\n",
       "                 created  low_score  \n",
       "76   2021-03-29 10:36:08      False  \n",
       "77   2021-03-29 10:17:17       True  \n",
       "78   2021-03-29 10:14:03      False  \n",
       "79   2021-03-29 10:11:53      False  \n",
       "80   2021-03-29 10:00:49      False  \n",
       "..                   ...        ...  \n",
       "978  2021-03-18 09:20:19       True  \n",
       "979  2021-03-18 09:12:34      False  \n",
       "980  2021-03-18 08:49:35      False  \n",
       "981  2021-03-18 08:47:25       True  \n",
       "982  2021-03-18 08:44:27       True  \n",
       "\n",
       "[907 rows x 10 columns]"
      ],
      "text/html": "<div>\n<style scoped>\n    .dataframe tbody tr th:only-of-type {\n        vertical-align: middle;\n    }\n\n    .dataframe tbody tr th {\n        vertical-align: top;\n    }\n\n    .dataframe thead th {\n        text-align: right;\n    }\n</style>\n<table border=\"1\" class=\"dataframe\">\n  <thead>\n    <tr style=\"text-align: right;\">\n      <th></th>\n      <th>Unnamed: 0</th>\n      <th>title</th>\n      <th>score</th>\n      <th>id</th>\n      <th>subreddit</th>\n      <th>url</th>\n      <th>num_comments</th>\n      <th>body</th>\n      <th>created</th>\n      <th>low_score</th>\n    </tr>\n  </thead>\n  <tbody>\n    <tr>\n      <th>76</th>\n      <td>76</td>\n      <td>Kyogre.. what are you doing?</td>\n      <td>42</td>\n      <td>mffwsy</td>\n      <td>pokemongo</td>\n      <td>https://i.redd.it/jpgidk26qvp61.jpg</td>\n      <td>10</td>\n      <td>NaN</td>\n      <td>2021-03-29 10:36:08</td>\n      <td>False</td>\n    </tr>\n    <tr>\n      <th>77</th>\n      <td>77</td>\n      <td>How’s everyone’s shiny Mew quest going?</td>\n      <td>1</td>\n      <td>mfflil</td>\n      <td>pokemongo</td>\n      <td>https://www.reddit.com/r/pokemongo/comments/mf...</td>\n      <td>20</td>\n      <td>All I can say is I have never walked so much i...</td>\n      <td>2021-03-29 10:17:17</td>\n      <td>True</td>\n    </tr>\n    <tr>\n      <th>78</th>\n      <td>78</td>\n      <td>Oh, nvm, there’s another one a block over!</td>\n      <td>303</td>\n      <td>mffjio</td>\n      <td>pokemongo</td>\n      <td>https://i.redd.it/0zhcza88mvp61.jpg</td>\n      <td>14</td>\n      <td>NaN</td>\n      <td>2021-03-29 10:14:03</td>\n      <td>False</td>\n    </tr>\n    <tr>\n      <th>79</th>\n      <td>79</td>\n      <td>Quick Rant</td>\n      <td>4</td>\n      <td>mffi4a</td>\n      <td>pokemongo</td>\n      <td>https://www.reddit.com/r/pokemongo/comments/mf...</td>\n      <td>3</td>\n      <td>Anyone else sick of reward pokemon (like for r...</td>\n      <td>2021-03-29 10:11:53</td>\n      <td>False</td>\n    </tr>\n    <tr>\n      <th>80</th>\n      <td>80</td>\n      <td>Not shiny rayquaza</td>\n      <td>3</td>\n      <td>mffb8v</td>\n      <td>pokemongo</td>\n      <td>https://www.reddit.com/r/pokemongo/comments/mf...</td>\n      <td>1</td>\n      <td>It may not be a shiny rayquaza, nor are its iv...</td>\n      <td>2021-03-29 10:00:49</td>\n      <td>False</td>\n    </tr>\n    <tr>\n      <th>...</th>\n      <td>...</td>\n      <td>...</td>\n      <td>...</td>\n      <td>...</td>\n      <td>...</td>\n      <td>...</td>\n      <td>...</td>\n      <td>...</td>\n      <td>...</td>\n      <td>...</td>\n    </tr>\n    <tr>\n      <th>978</th>\n      <td>978</td>\n      <td>Raid issue</td>\n      <td>1</td>\n      <td>m7fsak</td>\n      <td>pokemongo</td>\n      <td>https://www.reddit.com/r/pokemongo/comments/m7...</td>\n      <td>2</td>\n      <td>Me and my friend were doing a raid and used ou...</td>\n      <td>2021-03-18 09:20:19</td>\n      <td>True</td>\n    </tr>\n    <tr>\n      <th>979</th>\n      <td>979</td>\n      <td>Referral Rewards</td>\n      <td>43</td>\n      <td>m7fn92</td>\n      <td>pokemongo</td>\n      <td>https://i.redd.it/73ahpz54ton61.jpg</td>\n      <td>24</td>\n      <td>NaN</td>\n      <td>2021-03-18 09:12:34</td>\n      <td>False</td>\n    </tr>\n    <tr>\n      <th>980</th>\n      <td>980</td>\n      <td>Only took me about 3 years! Just in time for m...</td>\n      <td>35</td>\n      <td>m7f7wz</td>\n      <td>pokemongo</td>\n      <td>https://www.reddit.com/r/pokemongo/comments/m7...</td>\n      <td>7</td>\n      <td>I'm so happy to finally hit 40, I've been work...</td>\n      <td>2021-03-18 08:49:35</td>\n      <td>False</td>\n    </tr>\n    <tr>\n      <th>981</th>\n      <td>981</td>\n      <td>How to get multiple of the same task from the ...</td>\n      <td>0</td>\n      <td>m7f6he</td>\n      <td>pokemongo</td>\n      <td>https://www.reddit.com/r/pokemongo/comments/m7...</td>\n      <td>7</td>\n      <td>So I’m out trying to get the Gible task, I got...</td>\n      <td>2021-03-18 08:47:25</td>\n      <td>True</td>\n    </tr>\n    <tr>\n      <th>982</th>\n      <td>982</td>\n      <td>Pokémon GO referral code</td>\n      <td>0</td>\n      <td>m7f4hp</td>\n      <td>pokemongo</td>\n      <td>https://www.reddit.com/r/pokemongo/comments/m7...</td>\n      <td>15</td>\n      <td>If you join or return to Pokémon GO using my r...</td>\n      <td>2021-03-18 08:44:27</td>\n      <td>True</td>\n    </tr>\n  </tbody>\n</table>\n<p>907 rows × 10 columns</p>\n</div>"
     },
     "metadata": {},
     "execution_count": 82
    }
   ],
   "source": [
    "pokemon_df"
   ]
  },
  {
   "cell_type": "code",
   "execution_count": 83,
   "metadata": {},
   "outputs": [],
   "source": [
    "from bs4 import BeautifulSoup"
   ]
  },
  {
   "cell_type": "code",
   "execution_count": 84,
   "metadata": {},
   "outputs": [],
   "source": [
    "import unicodedata\n",
    "\n",
    "\n",
    "def remove_accents(input_str:str) -> str:\n",
    "    '''Removes accents from input string'''\n",
    "    nfkd_form = unicodedata.normalize('NFKD', input_str)\n",
    "    only_ascii = nfkd_form.encode('ASCII', 'ignore')\n",
    "    return only_ascii.decode()\n",
    "\n",
    "def filter_tokens(tokens:list, stops:object) -> list:\n",
    "    \"\"\"Filters tokens base on membership in stop list\"\"\"\n",
    "#     split_punc = lambda x: \n",
    "    res = []\n",
    "    check = [\".\", \"-\"]\n",
    "    for token in tokens:\n",
    "        if token not in stops and token.isalpha():\n",
    "            if check[0] in token:\n",
    "                res += token.partition(check[0])\n",
    "            elif check[1] in token:\n",
    "                res += token.partition(check[1])\n",
    "            else:\n",
    "                res.append(token)\n",
    "    return res"
   ]
  },
  {
   "cell_type": "code",
   "execution_count": 85,
   "metadata": {},
   "outputs": [],
   "source": [
    "from collections import Counter\n",
    "import numpy as np\n",
    "import pandas as pd\n",
    "import re\n",
    "import matplotlib.pyplot as plt\n",
    "from bs4 import BeautifulSoup\n",
    "import json\n",
    "from pprint import pprint\n",
    "import string\n",
    "from sklearn.feature_extraction.text import TfidfVectorizer\n",
    "\n",
    "# NLTK Modules\n",
    "import nltk\n",
    "from nltk.stem.porter import PorterStemmer\n",
    "from nltk.tokenize import word_tokenize\n",
    "from nltk.stem.snowball import SnowballStemmer\n",
    "from nltk.stem.wordnet import WordNetLemmatizer\n",
    "from nltk.corpus import stopwords\n",
    "from src.cleaner import clean_data\n",
    "from src.helpers import *"
   ]
  },
  {
   "cell_type": "code",
   "execution_count": 86,
   "metadata": {},
   "outputs": [],
   "source": [
    "nlp_df = pokemon_df['body']\n",
    "nlp_df = nlp_df.fillna('')\n"
   ]
  },
  {
   "cell_type": "code",
   "execution_count": 87,
   "metadata": {},
   "outputs": [],
   "source": [
    "import string\n",
    "import unicodedata\n",
    "\n",
    "import nltk\n",
    "\n",
    "from nltk.tokenize import sent_tokenize\n",
    "from nltk.tokenize import word_tokenize\n",
    "from nltk.corpus import stopwords\n",
    "from nltk.stem.porter import PorterStemmer\n",
    "from nltk.stem.snowball import SnowballStemmer\n",
    "from nltk.util import ngrams\n",
    "from nltk import pos_tag\n",
    "from nltk import RegexpParser"
   ]
  },
  {
   "cell_type": "code",
   "execution_count": 88,
   "metadata": {},
   "outputs": [],
   "source": [
    "corpus= nlp_df.to_list()"
   ]
  },
  {
   "cell_type": "code",
   "execution_count": 95,
   "metadata": {},
   "outputs": [],
   "source": [
    "y = np.array([pokemon_df['low_score']])"
   ]
  },
  {
   "cell_type": "code",
   "execution_count": 89,
   "metadata": {},
   "outputs": [
    {
     "output_type": "execute_result",
     "data": {
      "text/plain": [
       "array([[0, 0, 0, ..., 0, 0, 0],\n",
       "       [0, 0, 0, ..., 0, 0, 0],\n",
       "       [0, 0, 0, ..., 0, 0, 0],\n",
       "       ...,\n",
       "       [0, 0, 0, ..., 0, 0, 0],\n",
       "       [0, 0, 0, ..., 0, 0, 0],\n",
       "       [0, 0, 0, ..., 0, 0, 0]])"
      ]
     },
     "metadata": {},
     "execution_count": 89
    }
   ],
   "source": [
    "from sklearn.feature_extraction.text import CountVectorizer\n",
    "\n",
    "vectorizer = CountVectorizer()\n",
    "X = vectorizer.fit_transform(corpus)\n",
    "X.toarray()"
   ]
  },
  {
   "cell_type": "code",
   "execution_count": 60,
   "metadata": {},
   "outputs": [],
   "source": [
    "# vectorizer2 = CountVectorizer(ngram_range=(1,2))\n",
    "# vectorizer2.fit_transform(corpus)\n",
    "# vectorizer2.get_feature_names()"
   ]
  },
  {
   "cell_type": "code",
   "execution_count": 64,
   "metadata": {},
   "outputs": [],
   "source": [
    "from sklearn.feature_extraction.text import TfidfVectorizer"
   ]
  },
  {
   "cell_type": "code",
   "execution_count": 73,
   "metadata": {
    "tags": []
   },
   "outputs": [
    {
     "output_type": "execute_result",
     "data": {
      "text/plain": [
       "(907, 4526)"
      ]
     },
     "metadata": {},
     "execution_count": 73
    }
   ],
   "source": [
    "vectorizer = TfidfVectorizer()\n",
    "X = vectorizer.fit_transform(corpus)\n",
    "X.shape"
   ]
  },
  {
   "cell_type": "code",
   "execution_count": 90,
   "metadata": {},
   "outputs": [],
   "source": [
    "from collections import Counter, defaultdict\n",
    "import numpy as np\n",
    "import itertools\n",
    "\n",
    "class BernoulliNaiveBayes(object):\n",
    "    \"\"\"\n",
    "    Attributes\n",
    "    ----------\n",
    "    alpha : float\n",
    "        Laplace smoothing constant.\n",
    "    Methods\n",
    "    -------\n",
    "    fit(X, y)\n",
    "        Create the lookup dictionaries used to calculate likelihoods\n",
    "    predict(X)\n",
    "        Hard-classify data with the fitted Naive Bayes model\n",
    "    \"\"\"\n",
    "    def __init__(self, alpha=1.0):\n",
    "        \"\"\"\n",
    "        Parameters\n",
    "        ----------\n",
    "        alpha : float\n",
    "            Laplace smoothing constant.  Default is 1, which means something\n",
    "            that had never been seen before would be assigned a probability of\n",
    "            1/2 of appearing in a document\n",
    "        \"\"\"\n",
    "        # number of documents of each class\n",
    "        self.class_counts = defaultdict(int)\n",
    "\n",
    "        # number of documents for each word for each class\n",
    "        self.class_feature_counts = defaultdict(Counter)\n",
    "\n",
    "        self.alpha = float(alpha)\n",
    "        self.p = None\n",
    "        self.vocab = set()\n",
    "\n",
    "    def _compute_likelihoods(self, X, y):\n",
    "        '''Populates class_counts and class_feature_counts\n",
    "        Parameters\n",
    "        ----------\n",
    "        X : Two-dimensional array-like\n",
    "            Array of input features, with each inner object representing a\n",
    "            document or observation\n",
    "        y : Numpy array\n",
    "            Array of class labels (e.g. spam / not spam)\n",
    "        '''\n",
    "        for doc, label in zip(X,y):\n",
    "            self.class_counts[label] += 1\n",
    "            for word in set(doc):\n",
    "                self.class_feature_counts[label][word] +=1\n",
    "\n",
    "    def fit(self, X, y):\n",
    "        '''Fits a Naive Bayes model to explain the relationship between X and y\n",
    "        Parameters\n",
    "        ----------\n",
    "        X : Two-dimensional array-like\n",
    "            Array of input features, with each inner object representing a\n",
    "            document or observation\n",
    "        y : Numpy array\n",
    "            Array of class labels (e.g. spam / not spam)\n",
    "        '''\n",
    "\n",
    "        # Compute number of features, aka the number of unique words (vocabulary)\n",
    "        for document in X:\n",
    "            for word in document:\n",
    "                self.vocab.add(word)\n",
    "        self.p = len(self.vocab)\n",
    "\n",
    "        # Compute document count for each word for each class\n",
    "        self._compute_likelihoods(X, y)\n",
    "\n",
    "    def posteriors(self, X):\n",
    "        '''Calculates the log-likelihood of each class for each input data point\n",
    "        Parameters\n",
    "        ----------\n",
    "        X : Two-dimensional array-like\n",
    "            Array of input features, with each inner object representing a\n",
    "            document or observation\n",
    "        Returns\n",
    "        -------\n",
    "        posteriors : list of dictionaries\n",
    "            Each dictionary represents the predicted probability of being in a\n",
    "            particular class, where key=label and value=prediction\n",
    "        Notes\n",
    "        -----\n",
    "        The Naive Bayes class allows targets besides just zero and one, and a\n",
    "        list of dictionaries enables this functionality\n",
    "        '''\n",
    "\n",
    "        #Make sure you implement Laplace smoothing when calculating probabilities!\n",
    "\n",
    "        #This is what your output should look like - a list of dictionaries\n",
    "        sample = [{\"some_class\":.123, \"some_other_class\":.451},\n",
    "                  {\"some_class\":.888, \"some_other_class\":.177}]\n",
    "        total_docs = sum(self.class_counts.values())\n",
    "        posts = []\n",
    "        for doc in X:\n",
    "            post = {}\n",
    "            for label, count in self.class_counts.items():\n",
    "                log_prob = np.log(count/total_docs)\n",
    "                doc_words = set(doc)\n",
    "                for word in self.vocab:\n",
    "                    p_num = self.alpha + self.class_feature_counts[label][word]\n",
    "                    p_denom = 2*self.alpha + self.class_counts[label]\n",
    "                    p = p_num/p_denom\n",
    "                    if word in doc_words:\n",
    "                        log_prob += np.log(p)\n",
    "                    else:\n",
    "                        log_prob += np.log(1-p)\n",
    "                post[label] = log_prob\n",
    "            posts.append(post)\n",
    "        return posts\n",
    "\n",
    "    def predict(self, X):\n",
    "        \"\"\"Uses a fitted Naive Bayes model to predict class labels\n",
    "        Parameters\n",
    "        ----------\n",
    "        X : Two-dimensional array-like\n",
    "            Array of input features, with each inner object representing a\n",
    "            document or observation\n",
    "        Returns\n",
    "        -------\n",
    "        predictions : Numpy array\n",
    "            Vector of class predictions for provided data X\n",
    "        \"\"\"\n",
    "        predictions = []\n",
    "\n",
    "        #Iterate through each dictionary\n",
    "        for post in self.posteriors(X):\n",
    "            #Find the label that corresponds to the highest probability\n",
    "            pred = max(post.keys(), key=(lambda label: post[label]))\n",
    "            predictions.append(pred)\n",
    "        return np.array(predictions)\n",
    "\n",
    "    def score(self, X, y):\n",
    "        \"\"\"Calculates the accuracy, the percentage of correct predictions\n",
    "        Parameters\n",
    "        ----------\n",
    "        X : Two-dimensional array-like\n",
    "            Array of input features, with each inner object representing a\n",
    "            document or observation\n",
    "        Returns\n",
    "        -------\n",
    "        accuracy : float\n",
    "            A number representing the classification accuracy on data X\n",
    "        \"\"\"\n",
    "        return np.mean(self.predict(X) == y)"
   ]
  },
  {
   "cell_type": "code",
   "execution_count": 100,
   "metadata": {},
   "outputs": [
    {
     "output_type": "execute_result",
     "data": {
      "text/plain": [
       "(907, 4526)"
      ]
     },
     "metadata": {},
     "execution_count": 100
    }
   ],
   "source": [
    "X.shape"
   ]
  },
  {
   "cell_type": "code",
   "execution_count": 102,
   "metadata": {},
   "outputs": [],
   "source": [
    "import numpy as np\n",
    "from pymongo import MongoClient\n",
    "from nltk.tokenize import word_tokenize, wordpunct_tokenize, RegexpTokenizer\n",
    "from sklearn.feature_extraction.text import CountVectorizer, TfidfVectorizer\n",
    "from nltk.stem.snowball import SnowballStemmer\n",
    "from sklearn import preprocessing\n",
    "from sklearn.model_selection import train_test_split\n",
    "from sklearn.naive_bayes import MultinomialNB as SKMultinomialNB"
   ]
  },
  {
   "cell_type": "code",
   "execution_count": 106,
   "metadata": {},
   "outputs": [],
   "source": [
    "y=y.T"
   ]
  },
  {
   "cell_type": "code",
   "execution_count": 107,
   "metadata": {},
   "outputs": [],
   "source": [
    "X_train, X_test, y_train, y_test = train_test_split(X,y)"
   ]
  },
  {
   "cell_type": "code",
   "execution_count": 110,
   "metadata": {},
   "outputs": [
    {
     "output_type": "error",
     "ename": "TypeError",
     "evalue": "unhashable type: 'csr_matrix'",
     "traceback": [
      "\u001b[0;31m---------------------------------------------------------------------------\u001b[0m",
      "\u001b[0;31mTypeError\u001b[0m                                 Traceback (most recent call last)",
      "\u001b[0;32m<ipython-input-110-f863b68823e7>\u001b[0m in \u001b[0;36m<module>\u001b[0;34m\u001b[0m\n\u001b[1;32m      1\u001b[0m \u001b[0mnbBern\u001b[0m \u001b[0;34m=\u001b[0m \u001b[0mBernoulliNaiveBayes\u001b[0m\u001b[0;34m(\u001b[0m\u001b[0;34m)\u001b[0m\u001b[0;34m\u001b[0m\u001b[0;34m\u001b[0m\u001b[0m\n\u001b[0;32m----> 2\u001b[0;31m \u001b[0mnbBern\u001b[0m\u001b[0;34m.\u001b[0m\u001b[0mfit\u001b[0m\u001b[0;34m(\u001b[0m\u001b[0mX\u001b[0m\u001b[0;34m,\u001b[0m\u001b[0my\u001b[0m\u001b[0;34m)\u001b[0m\u001b[0;34m\u001b[0m\u001b[0;34m\u001b[0m\u001b[0m\n\u001b[0m",
      "\u001b[0;32m<ipython-input-90-17cf6e60858d>\u001b[0m in \u001b[0;36mfit\u001b[0;34m(self, X, y)\u001b[0m\n\u001b[1;32m     64\u001b[0m         \u001b[0;32mfor\u001b[0m \u001b[0mdocument\u001b[0m \u001b[0;32min\u001b[0m \u001b[0mX\u001b[0m\u001b[0;34m:\u001b[0m\u001b[0;34m\u001b[0m\u001b[0;34m\u001b[0m\u001b[0m\n\u001b[1;32m     65\u001b[0m             \u001b[0;32mfor\u001b[0m \u001b[0mword\u001b[0m \u001b[0;32min\u001b[0m \u001b[0mdocument\u001b[0m\u001b[0;34m:\u001b[0m\u001b[0;34m\u001b[0m\u001b[0;34m\u001b[0m\u001b[0m\n\u001b[0;32m---> 66\u001b[0;31m                 \u001b[0mself\u001b[0m\u001b[0;34m.\u001b[0m\u001b[0mvocab\u001b[0m\u001b[0;34m.\u001b[0m\u001b[0madd\u001b[0m\u001b[0;34m(\u001b[0m\u001b[0mword\u001b[0m\u001b[0;34m)\u001b[0m\u001b[0;34m\u001b[0m\u001b[0;34m\u001b[0m\u001b[0m\n\u001b[0m\u001b[1;32m     67\u001b[0m         \u001b[0mself\u001b[0m\u001b[0;34m.\u001b[0m\u001b[0mp\u001b[0m \u001b[0;34m=\u001b[0m \u001b[0mlen\u001b[0m\u001b[0;34m(\u001b[0m\u001b[0mself\u001b[0m\u001b[0;34m.\u001b[0m\u001b[0mvocab\u001b[0m\u001b[0;34m)\u001b[0m\u001b[0;34m\u001b[0m\u001b[0;34m\u001b[0m\u001b[0m\n\u001b[1;32m     68\u001b[0m \u001b[0;34m\u001b[0m\u001b[0m\n",
      "\u001b[0;31mTypeError\u001b[0m: unhashable type: 'csr_matrix'"
     ]
    }
   ],
   "source": [
    "nbBern = BernoulliNaiveBayes()\n",
    "nbBern.fit(X,y)"
   ]
  },
  {
   "cell_type": "code",
   "execution_count": null,
   "metadata": {},
   "outputs": [],
   "source": []
  }
 ]
}